{
 "cells": [
  {
   "cell_type": "markdown",
   "metadata": {},
   "source": [
    "# Principles of Life Actuarial Statistics"
   ]
  },
  {
   "cell_type": "markdown",
   "metadata": {},
   "source": [
    "## Introduction\n",
    "When defining **Actuarial Science** we mean that discipline in which the risks assumed by insurance and financial entities are evaluated through the application of statistical and mathematical techniques. So, in this subject the main scope refers to assessing *financial risks* specially into insurance industry using quantitative tools opportunely reliables. <br>\n",
    "Of course, there are a lot of fields in which this topic has evolved over the course of years. For instance: Casualty issues, Pensions, Reinsurance and many others. Nowadays, being straightforward, since the dawn of **The Industrial Revolution** we have witnessed an upward trend in **Life Expectancy Worlwide**. Moreover, science progress has brought a widespread of benefits in lifestyle of Mankind. As a matter of fact, there has been a secular tendency to work less and increase productivity, increasing leisuring. It is for this reason that the various jurisdictions were able to adopt retirement policies thanks to detailed **Demographic Studies** as well.<br> As some Europe Populations are struggling with aging and a negative gap in births, others Continents such as Africa are facing high rates but as a result of other factors their Life Expectancy is quite far from the Occidental one. <br>To some extent, aging features such as Schooling or GDP are relevant in which *Spock* would have said **\"Life long and prosper\"**. <br> In this brief Jupyter Notebook we are going to intruduce some basic concepts of Life Actuarial Statistics through Python and its powerful libraries."
   ]
  },
  {
   "cell_type": "markdown",
   "metadata": {},
   "source": [
    "## Biometric Model\n",
    "<a id='bi'></a>"
   ]
  },
  {
   "cell_type": "markdown",
   "metadata": {},
   "source": [
    "The Basic Biometric model is a stochastic model defined around a random variable $X$ that we call the **age of death** of the individual. <br> Therefore, $X$ is a variable defined in the set of **positive real numbers**, although in the practical constructions it accepts the existence of an actuarial infinite or actuarial age denoting as $\\omega$. The information referring to the age of death in census studies or samples of specific populations refers to the complete years that the deceased has lived, so it would be much more reasonable to treat $X$ as a discrete variable though. <br> Both approach are conciliables and they only conduct to slight divergencies indeed.<br>\n",
    "\n",
    "**Basic Hypotesis of Biometric Model**<br>\n",
    "**1.Homogenity** : Individuals form up a homogeneous group, that is, the statistical behavior of their age of death is identical.<br>\n",
    "**2.Independence** : The variables that describe the ages of death of the different individuals they are statistically independent. <br>\n",
    "**3.Stationarity** : The biometric properties of individuals do not depend on their date of birth, but only on their age. This hypothesis is accepted in practice for short periods of time.\n",
    "\n",
    "Before going any further let's recall some useful **notation**:<br> \n",
    "* $X =$ The death's age of the induvidual<br> \n",
    "* $x =$ Current age of the individual<br> \n",
    "* $T(x)$ or $X$ - $x =$ Residual life at age $x$. It takes values into the interval (0, $\\omega$ - $x$)<br>\n",
    "* $F(x)$ or $P(X \\le x) =$ Distribution fuction of the death's age<br>\n",
    "* $S(x) = P(X > x) = 1 - F(x) =$ Survival function (e.g. I survive at $x$ age)<br>\n",
    "* $G_{x}(t) = P(T(x) \\le t) = P(X - x \\le | X > x) = P(X \\le x+t | X > x)$ = Distribution function of residual age<br>\n",
    "* $_h{q}_x = P(x < X \\le x+h|X>x) = \\frac{F(x + h) - F(x)}{1 - F(x)}$= Temporal **probability of death** for an individual of age $x$. In other words, is the probability for an individual who has exceeded the age $x$, to die between $x$ and $x + h$, therefore, it is a probability of death conditioned by exceeding an age x. <br>\n",
    "* $_h{p}_x = 1- _h{q}_x =\\frac{1-F(x+h)}{1-F(x)}$ = Temporal **probability of survival** for an individual of age $x$. It is the probability that an individual who has passed age $x$ will exceed age $x + h$. Obviously, it is the probability of the opposite event, that is, one minus the probability of death."
   ]
  },
  {
   "cell_type": "markdown",
   "metadata": {},
   "source": [
    "## Instantaneous death rate"
   ]
  },
  {
   "cell_type": "markdown",
   "metadata": {},
   "source": [
    "When defining **instantaneous death rate** denote as $\\mu_{x}$ or $\\mu (x)$ we allude to the measure of the strength or intensity of mortality at age $x$, for individuals who have reached that age. That is a limit, as shown:<br>\n",
    "$$\\mu(x) = \\lim_{\\Delta {t \\to 0}}  \\frac{\\Delta{_t}q_{x}}{\\Delta{t}}$$<br>\n",
    "\n",
    "In other words, that rate picks up the limit value of the temporal probability of fractional death within the year.<br> "
   ]
  },
  {
   "cell_type": "markdown",
   "metadata": {},
   "source": [
    "$$\\Delta{_t}q_{x} = P(X \\le x + \\Delta{_t} | X > x) = \\frac{F(x+\\Delta{_t}) -F(x)}{1-F(x)}$$\n"
   ]
  },
  {
   "cell_type": "markdown",
   "metadata": {},
   "source": [
    "Hence: <br>\n",
    "$$\\frac{\\Delta{_t}q_{x}}{\\Delta{t}}= \\frac{1}{1-F(x)}\\times\\frac{F(x+\\Delta{t})-F(x)}{1-F(x)}$$<br>\n",
    "Taking limits we have the following equality where f is the density function of X."
   ]
  },
  {
   "cell_type": "markdown",
   "metadata": {},
   "source": [
    "$$\\mu (x) =  \\frac{f(x)}{1-F(x)}$$"
   ]
  },
  {
   "cell_type": "markdown",
   "metadata": {},
   "source": [
    "## Life Tables"
   ]
  },
  {
   "cell_type": "markdown",
   "metadata": {},
   "source": [
    "The life tables collect the biometric functions that describe the evolution of a **cohort** from its **birth** to its **extinction**</font> (or death of all its members), and are used in actuarial statistics to determine *the probabilities of death*. <br>The **cohort** is function define as:<br>\n",
    "### $$l : [0, \\omega] \\to \\mathbb{R} $$"
   ]
  },
  {
   "cell_type": "markdown",
   "metadata": {},
   "source": [
    "<a id='dx'></a>\n",
    "Their values are designated by $l (x)$, where $l (0)$ is the initial size of the group or cohort and $l(x)$ is the number of survivors of $l (0)$ who reach exactly age $x$. We also have that $l (\\omega) = 0$ and that $l (x) = l (0) \\times S (x)$. For convenience, $l (0)$ is usually assumed to be 100,000.<br>\n",
    "In the life tables, we also have that $_{n}d_{x}$ represents the **number of deaths** between the ages $x$ and $x + n$:<br>\n",
    "Indeed we have that:<br>\n",
    "### $$_{n}d_{x} = l(x) - l(x+n)$$\n",
    "$NOTE:$<br>\n",
    "In life tables, $l (x)$ is the main function to which derive all others from.\n",
    "\n"
   ]
  },
  {
   "cell_type": "markdown",
   "metadata": {},
   "source": [
    "In particular, the Mortality Table, considered as the description of the behavior of a Hypothetical Population, is made up of elements of the same age, until the total extinction of the group, is one of the instruments that the $Actuary$ uses to obtain values of future benefits that are subject to people's survival or death. <br>\n",
    "It should be said that the degree of reliability of the calculations obtained will depend, among other things, on the veracity with which the Table used represents the real Population, indeed, by using this tool the assumption is being made that the real Population has the same behavior as that of the Hypothetical Population contained in the Table. \n",
    "\n",
    "Finally, it must be remembered that the construction, broadly speaking, is based on a very large number of statistical facts and, later, on the *graduation* of such observations. However, this Notebook is not intended to explain or analyze the methods used for its construction, from the observation of the facts, a Mortality Table. We will focus rather on the familiarization in the handling of the concepts and the notation that is used in it."
   ]
  },
  {
   "cell_type": "markdown",
   "metadata": {},
   "source": [
    "### This is how Actuarial table's header (features) looks like "
   ]
  },
  {
   "cell_type": "markdown",
   "metadata": {},
   "source": [
    "| AGE | SURVIVOR NUMBER AT EACH AGE | NUMBER OF DEATHS AT EACH AGE (CONS.) | PROB. OF DYING BEFORE THE FOLLOWING AGE | PROB OF SURVIVING TO THE NEXT AGE |\n",
    "|------|----------------------------------------|----------------------------------------|---------------------------------------------------|----------------------------------------|\n",
    "| $x$    | $l(x)$                                   |$d(x)$                                   | $q(x)$                                              | $p(x)$                                   |"
   ]
  },
  {
   "cell_type": "markdown",
   "metadata": {},
   "source": [
    "## Diagrams with Python"
   ]
  },
  {
   "cell_type": "markdown",
   "metadata": {},
   "source": [
    "Let's now plotting some charts for make clear concepts.\n",
    "First of all, since it is not possible displaying interactive charts into README or Jupiter Notebook  on Github, we will use matplotlib. In spite of this little problem, it is not an obstacle and displaying will be available at the link in which you need to click on. <br>\n",
    "Plotly is a powerful interactive library for Python. It is quite useful as we can slide onto the chart for looking to the smallest detail. <br>In fact, I advise the reader at swiping it up and down to see age and number of individuals interactively.<br> The first graph is a **Survival Plot**, it is usually rapresented as a line chart. On the y axis we have the cohort starting at 100,000 as said before.<br> In this chart, as usual, it is illustrated on the x axis the Age of a group of Individuals and it clearly begins at 0 coming up to the limit age (our $\\omega$).\n"
   ]
  },
  {
   "cell_type": "markdown",
   "metadata": {},
   "source": [
    "Coming to the point let's see how to do it in Python"
   ]
  },
  {
   "cell_type": "code",
   "execution_count": 1,
   "metadata": {},
   "outputs": [],
   "source": [
    "#First of all, we import basic libraries\n",
    "\n",
    "import pandas as pd\n",
    "import numpy as np\n",
    "import matplotlib.pyplot as plt\n",
    "import seaborn as sns\n",
    "import plotly.express as px\n",
    "import plotly.io as pio\n",
    "sns.set_style('darkgrid')"
   ]
  },
  {
   "cell_type": "code",
   "execution_count": 2,
   "metadata": {},
   "outputs": [
    {
     "data": {
      "text/html": [
       "<div>\n",
       "<style scoped>\n",
       "    .dataframe tbody tr th:only-of-type {\n",
       "        vertical-align: middle;\n",
       "    }\n",
       "\n",
       "    .dataframe tbody tr th {\n",
       "        vertical-align: top;\n",
       "    }\n",
       "\n",
       "    .dataframe thead th {\n",
       "        text-align: right;\n",
       "    }\n",
       "</style>\n",
       "<table border=\"1\" class=\"dataframe\">\n",
       "  <thead>\n",
       "    <tr style=\"text-align: right;\">\n",
       "      <th></th>\n",
       "      <th>age</th>\n",
       "      <th>Australia_Male</th>\n",
       "      <th>Austria_Male</th>\n",
       "      <th>Belgium_Male</th>\n",
       "      <th>Bulgaria_Male</th>\n",
       "      <th>Canada_Male</th>\n",
       "      <th>Czech Republic_Male</th>\n",
       "      <th>Denmark_Male</th>\n",
       "      <th>Estonia_Male</th>\n",
       "      <th>Finland_Male</th>\n",
       "      <th>...</th>\n",
       "      <th>Netherlands_Female</th>\n",
       "      <th>Poland_Female</th>\n",
       "      <th>Portugal_Female</th>\n",
       "      <th>Russia_Female</th>\n",
       "      <th>Slovakia_Female</th>\n",
       "      <th>Slovenia_Female</th>\n",
       "      <th>Spain_Female</th>\n",
       "      <th>Sweden_Female</th>\n",
       "      <th>United Kingdom_Female</th>\n",
       "      <th>United States_Female</th>\n",
       "    </tr>\n",
       "  </thead>\n",
       "  <tbody>\n",
       "    <tr>\n",
       "      <th>0</th>\n",
       "      <td>0</td>\n",
       "      <td>100000</td>\n",
       "      <td>100000</td>\n",
       "      <td>100000</td>\n",
       "      <td>100000</td>\n",
       "      <td>100000</td>\n",
       "      <td>100000</td>\n",
       "      <td>100000</td>\n",
       "      <td>100000</td>\n",
       "      <td>100000</td>\n",
       "      <td>...</td>\n",
       "      <td>100000</td>\n",
       "      <td>100000</td>\n",
       "      <td>100000</td>\n",
       "      <td>100000</td>\n",
       "      <td>100000</td>\n",
       "      <td>100000</td>\n",
       "      <td>100000</td>\n",
       "      <td>100000</td>\n",
       "      <td>100000</td>\n",
       "      <td>100000</td>\n",
       "    </tr>\n",
       "    <tr>\n",
       "      <th>1</th>\n",
       "      <td>1</td>\n",
       "      <td>99528</td>\n",
       "      <td>99600</td>\n",
       "      <td>99620</td>\n",
       "      <td>98938</td>\n",
       "      <td>99488</td>\n",
       "      <td>99698</td>\n",
       "      <td>99689</td>\n",
       "      <td>99582</td>\n",
       "      <td>99740</td>\n",
       "      <td>...</td>\n",
       "      <td>99649</td>\n",
       "      <td>99493</td>\n",
       "      <td>99693</td>\n",
       "      <td>99279</td>\n",
       "      <td>99526</td>\n",
       "      <td>99747</td>\n",
       "      <td>99713</td>\n",
       "      <td>99759</td>\n",
       "      <td>99583</td>\n",
       "      <td>99415</td>\n",
       "    </tr>\n",
       "    <tr>\n",
       "      <th>2</th>\n",
       "      <td>2</td>\n",
       "      <td>99495</td>\n",
       "      <td>99572</td>\n",
       "      <td>99570</td>\n",
       "      <td>98887</td>\n",
       "      <td>99453</td>\n",
       "      <td>99674</td>\n",
       "      <td>99663</td>\n",
       "      <td>99521</td>\n",
       "      <td>99723</td>\n",
       "      <td>...</td>\n",
       "      <td>99624</td>\n",
       "      <td>99461</td>\n",
       "      <td>99657</td>\n",
       "      <td>99205</td>\n",
       "      <td>99486</td>\n",
       "      <td>99727</td>\n",
       "      <td>99682</td>\n",
       "      <td>99735</td>\n",
       "      <td>99558</td>\n",
       "      <td>99376</td>\n",
       "    </tr>\n",
       "    <tr>\n",
       "      <th>3</th>\n",
       "      <td>3</td>\n",
       "      <td>99471</td>\n",
       "      <td>99545</td>\n",
       "      <td>99549</td>\n",
       "      <td>98854</td>\n",
       "      <td>99433</td>\n",
       "      <td>99646</td>\n",
       "      <td>99657</td>\n",
       "      <td>99521</td>\n",
       "      <td>99717</td>\n",
       "      <td>...</td>\n",
       "      <td>99609</td>\n",
       "      <td>99443</td>\n",
       "      <td>99639</td>\n",
       "      <td>99160</td>\n",
       "      <td>99444</td>\n",
       "      <td>99717</td>\n",
       "      <td>99669</td>\n",
       "      <td>99718</td>\n",
       "      <td>99538</td>\n",
       "      <td>99351</td>\n",
       "    </tr>\n",
       "    <tr>\n",
       "      <th>4</th>\n",
       "      <td>4</td>\n",
       "      <td>99458</td>\n",
       "      <td>99528</td>\n",
       "      <td>99528</td>\n",
       "      <td>98795</td>\n",
       "      <td>99421</td>\n",
       "      <td>99637</td>\n",
       "      <td>99654</td>\n",
       "      <td>99521</td>\n",
       "      <td>99707</td>\n",
       "      <td>...</td>\n",
       "      <td>99595</td>\n",
       "      <td>99424</td>\n",
       "      <td>99626</td>\n",
       "      <td>99130</td>\n",
       "      <td>99414</td>\n",
       "      <td>99706</td>\n",
       "      <td>99657</td>\n",
       "      <td>99700</td>\n",
       "      <td>99522</td>\n",
       "      <td>99332</td>\n",
       "    </tr>\n",
       "  </tbody>\n",
       "</table>\n",
       "<p>5 rows × 57 columns</p>\n",
       "</div>"
      ],
      "text/plain": [
       "   age  Australia_Male  Austria_Male  Belgium_Male  Bulgaria_Male  \\\n",
       "0    0          100000        100000        100000         100000   \n",
       "1    1           99528         99600         99620          98938   \n",
       "2    2           99495         99572         99570          98887   \n",
       "3    3           99471         99545         99549          98854   \n",
       "4    4           99458         99528         99528          98795   \n",
       "\n",
       "   Canada_Male  Czech Republic_Male  Denmark_Male  Estonia_Male  Finland_Male  \\\n",
       "0       100000               100000        100000        100000        100000   \n",
       "1        99488                99698         99689         99582         99740   \n",
       "2        99453                99674         99663         99521         99723   \n",
       "3        99433                99646         99657         99521         99717   \n",
       "4        99421                99637         99654         99521         99707   \n",
       "\n",
       "   ...  Netherlands_Female  Poland_Female  Portugal_Female  Russia_Female  \\\n",
       "0  ...              100000         100000           100000         100000   \n",
       "1  ...               99649          99493            99693          99279   \n",
       "2  ...               99624          99461            99657          99205   \n",
       "3  ...               99609          99443            99639          99160   \n",
       "4  ...               99595          99424            99626          99130   \n",
       "\n",
       "   Slovakia_Female  Slovenia_Female  Spain_Female  Sweden_Female  \\\n",
       "0           100000           100000        100000         100000   \n",
       "1            99526            99747         99713          99759   \n",
       "2            99486            99727         99682          99735   \n",
       "3            99444            99717         99669          99718   \n",
       "4            99414            99706         99657          99700   \n",
       "\n",
       "   United Kingdom_Female  United States_Female  \n",
       "0                 100000                100000  \n",
       "1                  99583                 99415  \n",
       "2                  99558                 99376  \n",
       "3                  99538                 99351  \n",
       "4                  99522                 99332  \n",
       "\n",
       "[5 rows x 57 columns]"
      ]
     },
     "execution_count": 2,
     "metadata": {},
     "output_type": "execute_result"
    }
   ],
   "source": [
    "file = r'C:\\Users\\Josè Valencia\\Desktop\\Actuarial\\lifeTable.csv'\n",
    "dataset = pd.read_csv(file) \n",
    "dataset.head() # Our dataset looks like this"
   ]
  },
  {
   "cell_type": "markdown",
   "metadata": {},
   "source": [
    "The dataset was downloaded from **Kaggle**, it contains some countries of the G20s and is divided in **Females** and **Males**. <br>As **Index** is set the age from birth to the age of death. Note that features *(columns)* are countries by Gender. <br> This database is also present in the Github Repository but for futher informations about data click here: [lifeTables](https://www.kaggle.com/cthierfelder/life-table-g20). "
   ]
  },
  {
   "cell_type": "code",
   "execution_count": 3,
   "metadata": {},
   "outputs": [],
   "source": [
    "import pyliferisk as life\n",
    "import pyliferisk.mortalitytables as mort"
   ]
  },
  {
   "cell_type": "code",
   "execution_count": 5,
   "metadata": {},
   "outputs": [
    {
     "data": {
      "text/html": [
       "<div>\n",
       "<style scoped>\n",
       "    .dataframe tbody tr th:only-of-type {\n",
       "        vertical-align: middle;\n",
       "    }\n",
       "\n",
       "    .dataframe tbody tr th {\n",
       "        vertical-align: top;\n",
       "    }\n",
       "\n",
       "    .dataframe thead th {\n",
       "        text-align: right;\n",
       "    }\n",
       "</style>\n",
       "<table border=\"1\" class=\"dataframe\">\n",
       "  <thead>\n",
       "    <tr style=\"text-align: right;\">\n",
       "      <th></th>\n",
       "      <th>CohortM(lx)</th>\n",
       "      <th>CohortF(lx)</th>\n",
       "      <th>dx(DeathsM)</th>\n",
       "      <th>dx(DeathsF)</th>\n",
       "      <th>qx Males</th>\n",
       "      <th>qy Females</th>\n",
       "      <th>px Males</th>\n",
       "      <th>py Females</th>\n",
       "    </tr>\n",
       "  </thead>\n",
       "  <tbody>\n",
       "    <tr>\n",
       "      <th>0</th>\n",
       "      <td>100000</td>\n",
       "      <td>100000</td>\n",
       "      <td>334.0</td>\n",
       "      <td>287.0</td>\n",
       "      <td>0.003340</td>\n",
       "      <td>0.002870</td>\n",
       "      <td>0.996660</td>\n",
       "      <td>0.997130</td>\n",
       "    </tr>\n",
       "    <tr>\n",
       "      <th>1</th>\n",
       "      <td>99666</td>\n",
       "      <td>99713</td>\n",
       "      <td>29.0</td>\n",
       "      <td>31.0</td>\n",
       "      <td>0.000291</td>\n",
       "      <td>0.000311</td>\n",
       "      <td>0.999709</td>\n",
       "      <td>0.999689</td>\n",
       "    </tr>\n",
       "    <tr>\n",
       "      <th>2</th>\n",
       "      <td>99637</td>\n",
       "      <td>99682</td>\n",
       "      <td>19.0</td>\n",
       "      <td>13.0</td>\n",
       "      <td>0.000191</td>\n",
       "      <td>0.000130</td>\n",
       "      <td>0.999809</td>\n",
       "      <td>0.999870</td>\n",
       "    </tr>\n",
       "    <tr>\n",
       "      <th>3</th>\n",
       "      <td>99618</td>\n",
       "      <td>99669</td>\n",
       "      <td>20.0</td>\n",
       "      <td>12.0</td>\n",
       "      <td>0.000201</td>\n",
       "      <td>0.000120</td>\n",
       "      <td>0.999799</td>\n",
       "      <td>0.999880</td>\n",
       "    </tr>\n",
       "    <tr>\n",
       "      <th>4</th>\n",
       "      <td>99598</td>\n",
       "      <td>99657</td>\n",
       "      <td>15.0</td>\n",
       "      <td>13.0</td>\n",
       "      <td>0.000151</td>\n",
       "      <td>0.000130</td>\n",
       "      <td>0.999849</td>\n",
       "      <td>0.999870</td>\n",
       "    </tr>\n",
       "    <tr>\n",
       "      <th>5</th>\n",
       "      <td>99583</td>\n",
       "      <td>99644</td>\n",
       "      <td>14.0</td>\n",
       "      <td>8.0</td>\n",
       "      <td>0.000141</td>\n",
       "      <td>0.000080</td>\n",
       "      <td>0.999859</td>\n",
       "      <td>0.999920</td>\n",
       "    </tr>\n",
       "    <tr>\n",
       "      <th>6</th>\n",
       "      <td>99569</td>\n",
       "      <td>99636</td>\n",
       "      <td>11.0</td>\n",
       "      <td>6.0</td>\n",
       "      <td>0.000110</td>\n",
       "      <td>0.000060</td>\n",
       "      <td>0.999890</td>\n",
       "      <td>0.999940</td>\n",
       "    </tr>\n",
       "  </tbody>\n",
       "</table>\n",
       "</div>"
      ],
      "text/plain": [
       "   CohortM(lx)  CohortF(lx)  dx(DeathsM)  dx(DeathsF)  qx Males  qy Females  \\\n",
       "0       100000       100000        334.0        287.0  0.003340    0.002870   \n",
       "1        99666        99713         29.0         31.0  0.000291    0.000311   \n",
       "2        99637        99682         19.0         13.0  0.000191    0.000130   \n",
       "3        99618        99669         20.0         12.0  0.000201    0.000120   \n",
       "4        99598        99657         15.0         13.0  0.000151    0.000130   \n",
       "5        99583        99644         14.0          8.0  0.000141    0.000080   \n",
       "6        99569        99636         11.0          6.0  0.000110    0.000060   \n",
       "\n",
       "   px Males  py Females  \n",
       "0  0.996660    0.997130  \n",
       "1  0.999709    0.999689  \n",
       "2  0.999809    0.999870  \n",
       "3  0.999799    0.999880  \n",
       "4  0.999849    0.999870  \n",
       "5  0.999859    0.999920  \n",
       "6  0.999890    0.999940  "
      ]
     },
     "execution_count": 5,
     "metadata": {},
     "output_type": "execute_result"
    }
   ],
   "source": [
    "spainm = dataset.Spain_Male.to_list()           # list of Spanish Males\n",
    "mortal_males = life.MortalityTable(lx=spainm)   # Actuarial Table Males\n",
    "spainf = dataset.Spain_Female.to_list()         # list of Spanish Females\n",
    "mortal_females = life.MortalityTable(lx=spainf) # Actuarial Table Females\n",
    "qx_females = pd.to_numeric(mortal_females.dx[:-1])/pd.to_numeric(mortal_females.lx[:-1])\n",
    "mortal_tab = pd.DataFrame({'CohortM(lx)':mortal_males.lx[:-1], 'CohortF(lx)':mortal_females.lx[:-1], # Cohorts\n",
    "                          'dx(DeathsM)':mortal_males.dx[:-1], 'dx(DeathsF)':mortal_females.dx[:-1],  # Deaths within a year\n",
    "                          'qx Males': pd.to_numeric(mortal_males.qx)/1000,                  # Probability of deaths Males\n",
    "                          'qy Females': qx_females,                                         # Probability of deaths Females\n",
    "                          'px Males': 1-(pd.to_numeric(mortal_males.qx)/1000),              # Probability of survival Males\n",
    "                          'py Females':1-(qx_females)})                                     # Probability of survival Females\n",
    "mortal_tab.head(7) # How it looks like"
   ]
  },
  {
   "cell_type": "markdown",
   "metadata": {},
   "source": [
    "We can summarize this table as follows:\n",
    "* $ x = $ Each of the ages in the Table.\n",
    "* $ l (x) = $ Represents the number of people who are alive at the exact age $ x-l $. $ Note: $ $ l $ is for $ living $ or living.\n",
    "* $ d_ {x} = l (x) -l (x + 1) = $ denotes the number of people who die between the ages $ x $ and $ x + 1 $. $ Note: $ $ d $ is for $death$, that is, deaths.\n",
    "* $ q_ {x} $ that is, $ q_ {x} = \\frac {lx-lx + 1} {lx} = $ represents the probability that a person of age $ x$ will not reach alive at age $x +  1.$\n",
    "* $ p_ {x} =$ $\\frac{l_{x + 1}}{lx} =$ represents the probability that a person of age $x$ will survive at age $x+1$.\n",
    "* As a consequence $ q_ {x} + p_ {x} = 1 $"
   ]
  },
  {
   "cell_type": "markdown",
   "metadata": {},
   "source": [
    "# SPAIN"
   ]
  },
  {
   "cell_type": "markdown",
   "metadata": {},
   "source": [
    "Let's take the case of Spain. At the beginning of $20^{th}$ the life expectancy in this Mediterranean Country was in average only of 34.76 years.<br> By the turn of the century **life expectancy at birth increased** rapidly and since 1990s,\n",
    "life expectancy at birth has been increasing almost four years, peaking up 80.9 by 2007.<br>\n",
    "**For more detailed information about Automonous Communities, check out INE's link**. [Pick here](https://www.ine.es/en/prensa/np584_en.pdf) <br>\n",
    "Even though it has been verified that in Spain Life Expectancy jumped up at one of the highest rates in the world, there is a visible gap. <br>\n",
    "In fact, by sex, the difference in the incidence of mortality remained. Life expectancy at birth of women exceed that of men by more than six years.<br>\n",
    "If we compare it with **Italy** another Mediterranean country with similar rates, line gap is shorter than Spanish one.<br>\n",
    "Graphically, there is a slightly more pronounced distance between ochre line towards blue one in Spain than in Italy's ones."
   ]
  },
  {
   "cell_type": "markdown",
   "metadata": {},
   "source": [
    "Continuing with the case of Spain, if we graph the data and compare it with another Mediterranean country such as Italy, we observe:"
   ]
  },
  {
   "cell_type": "code",
   "execution_count": 6,
   "metadata": {},
   "outputs": [
    {
     "data": {
      "image/png": "[encoded data removed]",
      "text/plain": [
       "<Figure size 1080x360 with 2 Axes>"
      ]
     },
     "metadata": {},
     "output_type": "display_data"
    }
   ],
   "source": [
    "plt.rcParams['figure.figsize'] = [15, 5]\n",
    "p1 = plt.subplot(1,2,1)\n",
    "plt.title('Survival Plot By Age - Spain')\n",
    "plt.xlabel('Age')\n",
    "plt.ylabel('Individuals (Cohort)')\n",
    "plt.plot(dataset.index, dataset.Spain_Female, label = 'Females')\n",
    "plt.plot(dataset.index, dataset.Spain_Male, label= 'Males')\n",
    "plt.legend(loc='best')\n",
    "p2 = plt.subplot(1,2,2)\n",
    "plt.title('Survival Plot By Age - Italy')\n",
    "plt.xlabel('Age')\n",
    "plt.suptitle('Mediterranean Countries', fontweight='bold')\n",
    "plt.plot(dataset.index, dataset.Italy_Female, label='Females')\n",
    "plt.plot(dataset.index, dataset.Italy_Male, label='Males')\n",
    "plt.legend(loc='best')\n",
    "plt.show()"
   ]
  },
  {
   "cell_type": "markdown",
   "metadata": {},
   "source": [
    "# Please, click here for checking out interactive chart of these countries\n",
    "**[SPAIN](https://joevalencia.github.io/Life-Actuarial-Statistics/Spain.html)<br>\n",
    "[ITALY](https://joevalencia.github.io/Life-Actuarial-Statistics/Italy.html)<br>\n",
    "[MEDITERRANEAN](https://joevalencia.github.io/Life-Actuarial-Statistics/Mediterranea.html)**<br>\n",
    "##### The code:"
   ]
  },
  {
   "cell_type": "code",
   "execution_count": 7,
   "metadata": {},
   "outputs": [],
   "source": [
    "# Codigo\n",
    "#import plotly.graph_objects as go\n",
    "\n",
    "#pivotes = pd.pivot_table(dataset, values=['Spain_Male', 'Spain_Female'], index=dataset.index)\n",
    "#males = go.Scatter(x= pivotes.index, y=pivotes.Spain_Male, name= 'Males', mode='lines')\n",
    "#females = go.Scatter(x=pivotes.index, y=pivotes.Spain_Female, name='Females', mode='lines')\n",
    "\n",
    "#frames= [males, females]\n",
    "\n",
    "#figure = go.Figure(frames)\n",
    "#figure.update_layout(title_text='Survival Plot - Spain', xaxis_title= 'Age', yaxis_title='Individuals' )\n",
    "#pivita = pd.pivot_table(dataset, values=['Italy_Male', 'Italy_Female'], index=dataset.index)\n",
    "#malesita = go.Scatter(x= pivotes.index, y=pivita.Italy_Male, name= 'Males', mode='lines')\n",
    "#femalesita = go.Scatter(x=pivotes.index, y=pivita.Italy_Female, name='Females', mode='lines')\n",
    "\n",
    "#framesita= [malesita, femalesita]\n",
    "\n",
    "#figurita = go.Figure(framesita)\n",
    "#figurita.update_layout(title_text='Survival Plot - Italy', xaxis_title= 'Age', yaxis_title='Individuals' )\n",
    "\n",
    "#figure.show()"
   ]
  },
  {
   "cell_type": "markdown",
   "metadata": {},
   "source": [
    "In other terms, this more marked distance means that in average a Spanish couple have less probability of keeping united compare to Italy's one. <br> In actuarial statistics it is also called **PROBABILITY OF DISSOLUTION**.<br>\n",
    "In other words, in a *joint insurance's policy*, dissolution refers to the death of first person to which the couple had been paying for.<br>\n",
    "In fact, **Joint life insurance** is a insurance policy that usually covers two people, but it only pays out once. Typically, this payment will be a lump sum, which goes to the survivor after the first person dies within the term of a policy. When the policy ends, there’s no further life cover for the survivor."
   ]
  },
  {
   "cell_type": "markdown",
   "metadata": {},
   "source": [
    "### Let's do one example to see how dissolution works"
   ]
  },
  {
   "cell_type": "markdown",
   "metadata": {},
   "source": [
    "Before all else, we have to say that in certain insurance products, such as life insurance for a family, it is necessary to study the biometric behavior of groups made up of various individuals (also called heads) of different ages.<br>\n",
    "In these cases we have to study the $joint survival$ or death probabilities for all or part of the individuals in the group.<br>\n",
    "Given that we accept the **hypothesis of independence**, we will have the probability of joint survival during a year of three heads of ages x, y and z, which we symbolize by $p_{xyz}$.<br>\n",
    "$$p_{xyz} = p_{x} \\times p_{y} \\times p_{z}$$"
   ]
  },
  {
   "cell_type": "markdown",
   "metadata": {},
   "source": [
    "Remember **Dissolution of a group occurs when at least one person dies.**"
   ]
  },
  {
   "cell_type": "markdown",
   "metadata": {},
   "source": [
    "So that carries out to: <br>\n",
    "* **Probability of dissolution:** $q_{xy}= q_{x} \\times p_{y} +q_{y} \\times p_{x}+ q_{x}\\times q_{y}= 1-p_{xy}$"
   ]
  },
  {
   "cell_type": "markdown",
   "metadata": {},
   "source": [
    "In python we can use [pyliferisk](https://github.com/franciscogarate/pyliferisk) library. **Pyliferisk** is a python library for life actuarial calculations, simple, powerful and easy-to-use as much as R's counterpart: [lifecontingencies](https://cran.r-project.org/web/packages/lifecontingencies/lifecontingencies.pdf)."
   ]
  },
  {
   "cell_type": "code",
   "execution_count": 8,
   "metadata": {},
   "outputs": [],
   "source": [
    "import pyliferisk as life\n",
    "import pyliferisk.mortalitytables as mort"
   ]
  },
  {
   "cell_type": "markdown",
   "metadata": {},
   "source": [
    "$NOTE$: pyliferisk moltiplies automatically *1000. So we divide by 1000 to have the actual probabilities"
   ]
  },
  {
   "cell_type": "markdown",
   "metadata": {},
   "source": [
    "Secondly, we need to apply the formula of dissolution's probability.<br> \n",
    "In pyliferisk, let's say we want to know the probability of dissolution within a year of a couple aged both 60, for simplicity.<br> **Here the code:**"
   ]
  },
  {
   "cell_type": "code",
   "execution_count": 98,
   "metadata": {},
   "outputs": [
    {
     "data": {
      "text/html": [
       "<div>\n",
       "<style scoped>\n",
       "    .dataframe tbody tr th:only-of-type {\n",
       "        vertical-align: middle;\n",
       "    }\n",
       "\n",
       "    .dataframe tbody tr th {\n",
       "        vertical-align: top;\n",
       "    }\n",
       "\n",
       "    .dataframe thead th {\n",
       "        text-align: right;\n",
       "    }\n",
       "</style>\n",
       "<table border=\"1\" class=\"dataframe\">\n",
       "  <thead>\n",
       "    <tr style=\"text-align: right;\">\n",
       "      <th></th>\n",
       "      <th>CohortM(lx)</th>\n",
       "      <th>CohortF(lx)</th>\n",
       "      <th>dx(DeathsM)</th>\n",
       "      <th>dx(DeathsF)</th>\n",
       "      <th>qx Males</th>\n",
       "      <th>qy Females</th>\n",
       "      <th>px Males</th>\n",
       "      <th>py Females</th>\n",
       "    </tr>\n",
       "  </thead>\n",
       "  <tbody>\n",
       "    <tr>\n",
       "      <th>60</th>\n",
       "      <td>90277</td>\n",
       "      <td>95359</td>\n",
       "      <td>805.0</td>\n",
       "      <td>323.0</td>\n",
       "      <td>0.008917</td>\n",
       "      <td>0.003387</td>\n",
       "      <td>0.991083</td>\n",
       "      <td>0.996613</td>\n",
       "    </tr>\n",
       "  </tbody>\n",
       "</table>\n",
       "</div>"
      ],
      "text/plain": [
       "    CohortM(lx)  CohortF(lx)  dx(DeathsM)  dx(DeathsF)  qx Males  qy Females  \\\n",
       "60        90277        95359        805.0        323.0  0.008917    0.003387   \n",
       "\n",
       "    px Males  py Females  \n",
       "60  0.991083    0.996613  "
      ]
     },
     "execution_count": 98,
     "metadata": {},
     "output_type": "execute_result"
    }
   ],
   "source": [
    "mortal_tab.iloc[60:61]"
   ]
  },
  {
   "cell_type": "code",
   "execution_count": 106,
   "metadata": {},
   "outputs": [
    {
     "data": {
      "text/plain": [
       "60    0.008917\n",
       "Name: qx Males, dtype: float64"
      ]
     },
     "execution_count": 106,
     "metadata": {},
     "output_type": "execute_result"
    }
   ],
   "source": [
    "tab = mortal_tab.iloc[60:61]\n",
    "tab['qx Males']"
   ]
  },
  {
   "cell_type": "code",
   "execution_count": 110,
   "metadata": {},
   "outputs": [
    {
     "name": "stdout",
     "output_type": "stream",
     "text": [
      "The probability is: \n",
      " 60    0.012274\n",
      "dtype: float64\n"
     ]
    }
   ],
   "source": [
    "qxy = tab['qx Males']*tab['qy Females']+tab['qx Males']*tab['py Females']+tab['px Males']*tab['qy Females']\n",
    "print('The probability is: \\n', qxy)"
   ]
  },
  {
   "cell_type": "markdown",
   "metadata": {},
   "source": [
    "$NOTE:$ This is equal to $1-p_{xy}= 1-p_{x}\\times p_{y}.$<br>Indeed:"
   ]
  },
  {
   "cell_type": "code",
   "execution_count": 112,
   "metadata": {},
   "outputs": [
    {
     "name": "stdout",
     "output_type": "stream",
     "text": [
      "The probability is: \n",
      " 60    0.012274\n",
      "dtype: float64\n"
     ]
    }
   ],
   "source": [
    "qxy_bis = 1- tab['px Males']*tab['py Females']\n",
    "print('The probability is: \\n',qxy_bis)"
   ]
  },
  {
   "cell_type": "markdown",
   "metadata": {},
   "source": [
    "## Here there is a further overviewing of pyliferisk"
   ]
  },
  {
   "cell_type": "code",
   "execution_count": 12,
   "metadata": {},
   "outputs": [
    {
     "name": "stdout",
     "output_type": "stream",
     "text": [
      "[x=60]  lx=90277\n",
      "[x=61]  lx=89472\n",
      "[x=62]  lx=88589\n",
      "[x=63]  lx=87642\n",
      "[x=64]  lx=86623\n",
      "[x=65]  lx=85573\n",
      "Total number of rows for lx = 112\n"
     ]
    }
   ],
   "source": [
    "mortal.view(60,65,var='lx') # Cohort between 60 and 65"
   ]
  },
  {
   "cell_type": "markdown",
   "metadata": {},
   "source": [
    "**Remind the formula:**\n",
    "[death](#dx)"
   ]
  },
  {
   "cell_type": "markdown",
   "metadata": {},
   "source": [
    "## One more example in Python..."
   ]
  },
  {
   "cell_type": "markdown",
   "metadata": {},
   "source": [
    "**Example. Cashflow calculation: Annuity-immediate geometrically increasing**<br>\n",
    "Life annuity immediate geometrically increasing for a male 69 years-old."
   ]
  },
  {
   "cell_type": "code",
   "execution_count": 13,
   "metadata": {},
   "outputs": [
    {
     "name": "stdout",
     "output_type": "stream",
     "text": [
      "Premium : 125830.73\n"
     ]
    }
   ],
   "source": [
    "\n",
    "age = 69\n",
    "initial_payment = 10000\n",
    "incr = 0.03 # increment\n",
    "i = 0.05    # interest rate\n",
    "\n",
    "discount_factor = []\n",
    "for y in range (0 , mortal.w - age ):\n",
    "    discount_factor.append (1 / (1 + i) ** (y + 1) )\n",
    "\n",
    "payments = [initial_payment]\n",
    "for x in range (0 , mortal.w - age -1):\n",
    "    payments.append( payments [x] * (1 + incr ) * (1 - mortal.qx[age+x] /1000) )\n",
    "\n",
    "print('Premium :', np.dot(payments, discount_factor).round(2))"
   ]
  },
  {
   "cell_type": "markdown",
   "metadata": {},
   "source": [
    "$DISCLAIMER:$ I Recommend checking the documentation out for any further datails."
   ]
  },
  {
   "cell_type": "markdown",
   "metadata": {},
   "source": [
    "## Life Expectancy"
   ]
  },
  {
   "cell_type": "markdown",
   "metadata": {},
   "source": [
    "When a person decides to take out life insurance, one of the Most relevant factors at determining the **premium** of policy is the insured's current age. <br>The characteristics of the insured's future life (hope, variance, median residual life) will provide very important information in this regard. <br>We recall that the distribution function of the residual life $G(x)$ is related to that of the age of death as follows:"
   ]
  },
  {
   "cell_type": "markdown",
   "metadata": {},
   "source": [
    "#### $$G_{x}(t) = P[T(x) \\le t] = \\frac{F(x+t)-F(x)}{1-F(x)}$$\n",
    "[Notation above](#bi)"
   ]
  },
  {
   "cell_type": "code",
   "execution_count": null,
   "metadata": {},
   "outputs": [],
   "source": []
  },
  {
   "cell_type": "markdown",
   "metadata": {},
   "source": [
    "## Wrapping up \n",
    "\n",
    "Life Actuarial Statistics, as a brach of Actuarial Science is ever more a field in which relying on as Life Expectancy and other Insurance implications are related to it.<br>\n",
    "Indeed, we have to remind that Developed countries are facing with aging and negative gaps in birthrate.<br>\n",
    "On the other hand, a positive externality that recently researchs have done is related to schooling. As a matter of fact, as life expectancy continues to increase globally, it is shown that life expectancy is related to higher levels of schooling as well. A detailed [Paper](https://www.sdu.dk/-/media/files/om_sdu/institutter/ivoe/disc_papers/disc_2012/dpbe6_2012.pdf) has been written by Casper Worm Hansen regarding it.<br>\n",
    "Let's closing with an interactive chart about it. **[Schooling chart](https://joevalencia.github.io/Life-Actuarial-Stats/Schooling.html)** demonstrates how life expectancy has been growing up since the beginnig of $21^{th}$.<br> So, please **I highly advise looking at it**. However, here below you have a png of how it appears. <br>This plot just aims to remind us how much Data analysts could confide in technical softwares for making concepts clearer.\n"
   ]
  },
  {
   "attachments": {
    "school.jpg": {
     "image/jpeg": "[encoded data removed]"
    }
   },
   "cell_type": "markdown",
   "metadata": {},
   "source": [
    "![school.jpg](attachment:school.jpg) <br> \n",
    "# [Schooling chart](https://joevalencia.github.io/Life-Actuarial-Statistics/Schooling.html)"
   ]
  },
  {
   "cell_type": "markdown",
   "metadata": {},
   "source": [
    "You will see Red Points rapresenting Developed Economies and blue ones as Developing.<br> The size of balls or points depend on percentage of expenditure over the course of years.<br> As time goes through Schooling Index Increase and Life Expenctancy goes up too."
   ]
  },
  {
   "cell_type": "markdown",
   "metadata": {},
   "source": [
    "**Last [Dataset](https://www.kaggle.com/kumarajarshi/life-expectancy-who) was taken from kaggle as well.** <br>\n",
    "##### Acknowledge: The data was collected from WHO and United Nations website with the help of Deeksha Russell and Duan Wang."
   ]
  },
  {
   "cell_type": "code",
   "execution_count": 2,
   "metadata": {},
   "outputs": [
    {
     "data": {
      "text/html": [
       "<div>\n",
       "<style scoped>\n",
       "    .dataframe tbody tr th:only-of-type {\n",
       "        vertical-align: middle;\n",
       "    }\n",
       "\n",
       "    .dataframe tbody tr th {\n",
       "        vertical-align: top;\n",
       "    }\n",
       "\n",
       "    .dataframe thead th {\n",
       "        text-align: right;\n",
       "    }\n",
       "</style>\n",
       "<table border=\"1\" class=\"dataframe\">\n",
       "  <thead>\n",
       "    <tr style=\"text-align: right;\">\n",
       "      <th></th>\n",
       "      <th>Country</th>\n",
       "      <th>Year</th>\n",
       "      <th>Status</th>\n",
       "      <th>Life expectancy</th>\n",
       "      <th>Adult Mortality</th>\n",
       "      <th>infant deaths</th>\n",
       "      <th>Alcohol</th>\n",
       "      <th>percentage expenditure</th>\n",
       "      <th>Hepatitis B</th>\n",
       "      <th>Measles</th>\n",
       "      <th>...</th>\n",
       "      <th>Polio</th>\n",
       "      <th>Total expenditure</th>\n",
       "      <th>Diphtheria</th>\n",
       "      <th>HIV/AIDS</th>\n",
       "      <th>GDP</th>\n",
       "      <th>Population</th>\n",
       "      <th>thinness  1-19 years</th>\n",
       "      <th>thinness 5-9 years</th>\n",
       "      <th>Income composition of resources</th>\n",
       "      <th>Schooling</th>\n",
       "    </tr>\n",
       "  </thead>\n",
       "  <tbody>\n",
       "    <tr>\n",
       "      <th>0</th>\n",
       "      <td>Afghanistan</td>\n",
       "      <td>2015</td>\n",
       "      <td>Developing</td>\n",
       "      <td>65.0</td>\n",
       "      <td>263.0</td>\n",
       "      <td>62</td>\n",
       "      <td>0.01</td>\n",
       "      <td>71.279624</td>\n",
       "      <td>65.0</td>\n",
       "      <td>1154</td>\n",
       "      <td>...</td>\n",
       "      <td>6.0</td>\n",
       "      <td>8.16</td>\n",
       "      <td>65.0</td>\n",
       "      <td>0.1</td>\n",
       "      <td>584.259210</td>\n",
       "      <td>33736494.0</td>\n",
       "      <td>17.2</td>\n",
       "      <td>17.3</td>\n",
       "      <td>0.479</td>\n",
       "      <td>10.1</td>\n",
       "    </tr>\n",
       "    <tr>\n",
       "      <th>1</th>\n",
       "      <td>Afghanistan</td>\n",
       "      <td>2014</td>\n",
       "      <td>Developing</td>\n",
       "      <td>59.9</td>\n",
       "      <td>271.0</td>\n",
       "      <td>64</td>\n",
       "      <td>0.01</td>\n",
       "      <td>73.523582</td>\n",
       "      <td>62.0</td>\n",
       "      <td>492</td>\n",
       "      <td>...</td>\n",
       "      <td>58.0</td>\n",
       "      <td>8.18</td>\n",
       "      <td>62.0</td>\n",
       "      <td>0.1</td>\n",
       "      <td>612.696514</td>\n",
       "      <td>327582.0</td>\n",
       "      <td>17.5</td>\n",
       "      <td>17.5</td>\n",
       "      <td>0.476</td>\n",
       "      <td>10.0</td>\n",
       "    </tr>\n",
       "    <tr>\n",
       "      <th>2</th>\n",
       "      <td>Afghanistan</td>\n",
       "      <td>2013</td>\n",
       "      <td>Developing</td>\n",
       "      <td>59.9</td>\n",
       "      <td>268.0</td>\n",
       "      <td>66</td>\n",
       "      <td>0.01</td>\n",
       "      <td>73.219243</td>\n",
       "      <td>64.0</td>\n",
       "      <td>430</td>\n",
       "      <td>...</td>\n",
       "      <td>62.0</td>\n",
       "      <td>8.13</td>\n",
       "      <td>64.0</td>\n",
       "      <td>0.1</td>\n",
       "      <td>631.744976</td>\n",
       "      <td>31731688.0</td>\n",
       "      <td>17.7</td>\n",
       "      <td>17.7</td>\n",
       "      <td>0.470</td>\n",
       "      <td>9.9</td>\n",
       "    </tr>\n",
       "    <tr>\n",
       "      <th>3</th>\n",
       "      <td>Afghanistan</td>\n",
       "      <td>2012</td>\n",
       "      <td>Developing</td>\n",
       "      <td>59.5</td>\n",
       "      <td>272.0</td>\n",
       "      <td>69</td>\n",
       "      <td>0.01</td>\n",
       "      <td>78.184215</td>\n",
       "      <td>67.0</td>\n",
       "      <td>2787</td>\n",
       "      <td>...</td>\n",
       "      <td>67.0</td>\n",
       "      <td>8.52</td>\n",
       "      <td>67.0</td>\n",
       "      <td>0.1</td>\n",
       "      <td>669.959000</td>\n",
       "      <td>3696958.0</td>\n",
       "      <td>17.9</td>\n",
       "      <td>18.0</td>\n",
       "      <td>0.463</td>\n",
       "      <td>9.8</td>\n",
       "    </tr>\n",
       "    <tr>\n",
       "      <th>4</th>\n",
       "      <td>Afghanistan</td>\n",
       "      <td>2011</td>\n",
       "      <td>Developing</td>\n",
       "      <td>59.2</td>\n",
       "      <td>275.0</td>\n",
       "      <td>71</td>\n",
       "      <td>0.01</td>\n",
       "      <td>7.097109</td>\n",
       "      <td>68.0</td>\n",
       "      <td>3013</td>\n",
       "      <td>...</td>\n",
       "      <td>68.0</td>\n",
       "      <td>7.87</td>\n",
       "      <td>68.0</td>\n",
       "      <td>0.1</td>\n",
       "      <td>63.537231</td>\n",
       "      <td>2978599.0</td>\n",
       "      <td>18.2</td>\n",
       "      <td>18.2</td>\n",
       "      <td>0.454</td>\n",
       "      <td>9.5</td>\n",
       "    </tr>\n",
       "  </tbody>\n",
       "</table>\n",
       "<p>5 rows × 22 columns</p>\n",
       "</div>"
      ],
      "text/plain": [
       "       Country  Year      Status  Life expectancy   Adult Mortality  \\\n",
       "0  Afghanistan  2015  Developing              65.0            263.0   \n",
       "1  Afghanistan  2014  Developing              59.9            271.0   \n",
       "2  Afghanistan  2013  Developing              59.9            268.0   \n",
       "3  Afghanistan  2012  Developing              59.5            272.0   \n",
       "4  Afghanistan  2011  Developing              59.2            275.0   \n",
       "\n",
       "   infant deaths  Alcohol  percentage expenditure  Hepatitis B  Measles   ...  \\\n",
       "0             62     0.01               71.279624         65.0      1154  ...   \n",
       "1             64     0.01               73.523582         62.0       492  ...   \n",
       "2             66     0.01               73.219243         64.0       430  ...   \n",
       "3             69     0.01               78.184215         67.0      2787  ...   \n",
       "4             71     0.01                7.097109         68.0      3013  ...   \n",
       "\n",
       "   Polio  Total expenditure  Diphtheria    HIV/AIDS         GDP  Population  \\\n",
       "0    6.0               8.16         65.0        0.1  584.259210  33736494.0   \n",
       "1   58.0               8.18         62.0        0.1  612.696514    327582.0   \n",
       "2   62.0               8.13         64.0        0.1  631.744976  31731688.0   \n",
       "3   67.0               8.52         67.0        0.1  669.959000   3696958.0   \n",
       "4   68.0               7.87         68.0        0.1   63.537231   2978599.0   \n",
       "\n",
       "    thinness  1-19 years   thinness 5-9 years  \\\n",
       "0                   17.2                 17.3   \n",
       "1                   17.5                 17.5   \n",
       "2                   17.7                 17.7   \n",
       "3                   17.9                 18.0   \n",
       "4                   18.2                 18.2   \n",
       "\n",
       "   Income composition of resources  Schooling  \n",
       "0                            0.479       10.1  \n",
       "1                            0.476       10.0  \n",
       "2                            0.470        9.9  \n",
       "3                            0.463        9.8  \n",
       "4                            0.454        9.5  \n",
       "\n",
       "[5 rows x 22 columns]"
      ]
     },
     "execution_count": 2,
     "metadata": {},
     "output_type": "execute_result"
    }
   ],
   "source": [
    "archivo = r'C:\\Users\\Josè Valencia\\Desktop\\Actuarial\\lifedata.csv'\n",
    "lifedata = pd.read_csv(archivo)\n",
    "lifedata.head()"
   ]
  },
  {
   "cell_type": "code",
   "execution_count": 3,
   "metadata": {},
   "outputs": [
    {
     "name": "stdout",
     "output_type": "stream",
     "text": [
      "<class 'pandas.core.frame.DataFrame'>\n",
      "RangeIndex: 2938 entries, 0 to 2937\n",
      "Data columns (total 22 columns):\n",
      "Country                            2938 non-null object\n",
      "Year                               2938 non-null int64\n",
      "Status                             2938 non-null object\n",
      "Life expectancy                    2928 non-null float64\n",
      "Adult Mortality                    2928 non-null float64\n",
      "infant deaths                      2938 non-null int64\n",
      "Alcohol                            2744 non-null float64\n",
      "percentage expenditure             2938 non-null float64\n",
      "Hepatitis B                        2385 non-null float64\n",
      "Measles                            2938 non-null int64\n",
      " BMI                               2904 non-null float64\n",
      "under-five deaths                  2938 non-null int64\n",
      "Polio                              2919 non-null float64\n",
      "Total expenditure                  2712 non-null float64\n",
      "Diphtheria                         2919 non-null float64\n",
      " HIV/AIDS                          2938 non-null float64\n",
      "GDP                                2490 non-null float64\n",
      "Population                         2286 non-null float64\n",
      " thinness  1-19 years              2904 non-null float64\n",
      " thinness 5-9 years                2904 non-null float64\n",
      "Income composition of resources    2771 non-null float64\n",
      "Schooling                          2775 non-null float64\n",
      "dtypes: float64(16), int64(4), object(2)\n",
      "memory usage: 505.1+ KB\n"
     ]
    }
   ],
   "source": [
    "lifedata.info()"
   ]
  },
  {
   "cell_type": "code",
   "execution_count": null,
   "metadata": {},
   "outputs": [],
   "source": [
    "lifeworld = lifedata.sort_values('Year', axis=0, ascending=True)"
   ]
  },
  {
   "cell_type": "code",
   "execution_count": null,
   "metadata": {},
   "outputs": [],
   "source": [
    "d = px.scatter(data_frame=lifeworld, y='Life expectancy ', x='Schooling', animation_frame='Year', \n",
    "               log_x=True, color ='Status', size='percentage expenditure', range_y=[40,100],\n",
    "               range_x=[4,23], hover_name='Country', animation_group='Country', size_max=55)\n",
    "d.update_layout(title='The effects of Life Expectancy on Schooling', transition = {'duration': 400})\n",
    "d.show()"
   ]
  },
  {
   "cell_type": "markdown",
   "metadata": {},
   "source": [
    "## References"
   ]
  },
  {
   "cell_type": "markdown",
   "metadata": {},
   "source": [
    "1. **Estadística actuarial vida** M. Ayuso, H. Corrales, M. Guillén, A.M. Pérez-Marín, J. L. Rojo\n",
    "2. **Elementos de calculo acuarial** M.A. Parras, J.A. Sanchez Chibràs."
   ]
  }
 ],
 "metadata": {
  "kernelspec": {
   "display_name": "Python 3",
   "language": "python",
   "name": "python3"
  },
  "language_info": {
   "codemirror_mode": {
    "name": "ipython",
    "version": 3
   },
   "file_extension": ".py",
   "mimetype": "text/x-python",
   "name": "python",
   "nbconvert_exporter": "python",
   "pygments_lexer": "ipython3",
   "version": "3.8.1"
  }
 },
 "nbformat": 4,
 "nbformat_minor": 2
}
