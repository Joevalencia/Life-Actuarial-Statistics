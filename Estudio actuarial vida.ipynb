{
 "cells": [
  {
   "cell_type": "markdown",
   "metadata": {},
   "source": [
    "# Principios de estadìstica actuarial vida"
   ]
  },
  {
   "cell_type": "markdown",
   "metadata": {},
   "source": [
    "### Introducciòn\n",
    "Al definir la **ciencia actuarial**, nos referimos a esa disciplina en la que los riesgos asumidos por las entidades financieras y de seguros se evalúan mediante la aplicación de técnicas estadísticas y matemáticas. Por ende, en esta materia, el objetivo principal hace referencìa a la evaluación de riesgos financieros especialmente en la industria de seguros utilizando herramientas cuantitativas oportunamente confiables.\n",
    "Por supuesto, hay muchos campos en los que este tema ha evolucionado a lo largo de los años. Por ejemplo: \"Problemas de accidentes, Pensiones, Reaseguros y muchos otros\". Hoy en día, a decir la verdad, desde los albores de la **Revolución Industrial** hemos sido testigos de una tendencia al alza en la **Esperanza de vida** en todo el mundo. <br>Además, el progreso cientìfico ha traído una gran cantidad de beneficios en el estilo de vida de la humanidad. <br>De hecho, ha habido una tendencia secular a trabajar menos y aumentar la productividad, aumentando el ocio. Es por esta razón que las diversas jurisdicciones también pudieron adoptar políticas de jubilación gracias a **estudios demográficos** detallados. A medida que algunas poblaciones europeas luchan con el envejecimiento y una brecha negativa en los nacimientos, otros continentes como África enfrentan tasas altas, pero como resultado de otros factores, su esperanza de vida está bastante lejos de la occidental. <br>\n",
    "Hasta cierto punto, características como la escolarización o el PIB son relevantes en la que *Spock* hubiera dicho **\"larga vida y prosperidad\"**. <br>\n",
    "En este breve cuaderno de Jupyter vamos a introducir algunos conceptos básicos de estadísticas actuariales vida con la esperanza de hacer las ideas claras a través de Python.<br>\n",
    "Uno de los modelos que basicos hace referencia al modelo biometrico, suportado por las tablas de vida, o *Actuarial Tables*"
   ]
  },
  {
   "cell_type": "markdown",
   "metadata": {},
   "source": [
    "### Modelo Biometrico"
   ]
  },
  {
   "cell_type": "markdown",
   "metadata": {},
   "source": [
    "El modelo biométrico básico es un modelo estocástico definido alrededor de una variable aleatoria $ X $ que llamamos la **edad de muerte** del individuo. <br> Por lo tanto, $ X $ es una variable definida en el conjunto de **números reales positivos**, aunque en las construcciones prácticas acepta la existencia de una edad limite o infinito actuarial  que se denota como \n",
    "$\\omega$. La información que se refiere a la edad de la muerte en los estudios censales o muestras de poblaciones específicas se refiere a los años completos que ha vivido el fallecido, por lo que sería mucho más razonable tratar $ X $ como una variable discreta. <br> Ambos enfoques de todas maneras son conciliables y solo conducen a ligeras divergencias. <br>"
   ]
  },
  {
   "cell_type": "markdown",
   "metadata": {},
   "source": [
    "**Hipotesis básica del modelo biométrico** <br>\n",
    "\n",
    "**1.Homogenidad:** los individuos forman un grupo homogéneo, es decir, el comportamiento estadístico de su edad de muerte es idéntico. <br>\n",
    "**2.Independencia:**: Las variables que describen las edades de muerte de los diferentes individuos son estadísticamente independientes. <br>\n",
    "**3. Estacionariedad:**: las propiedades biométricas de los individuos no dependen de su fecha de nacimiento, sino solo de su edad. <br>Esta hipótesis es aceptada en la práctica por cortos períodos de tiempo."
   ]
  },
  {
   "cell_type": "markdown",
   "metadata": {},
   "source": [
    "Antes de continuar, recordemos algunas nociones **útiles**: <br>\n",
    "* $ X = $ La edad de muerte de la persona inducida <br>\n",
    "* $ x = $ Edad actual de la persona <br>\n",
    "* $ T (x) $ o $ X $ - $ x = $ Vida residual a la edad $ x $. Toma valores en el intervalo (0, $\\omega$ - $x$) <br>\n",
    "* $ F (x) $ o $ P (X \\le x) = $ Función de distribución de la edad de la muerte <br>\n",
    "<a id='bi'></a>\n",
    "* $ S (x) = P (X> x) = 1 - F (x) = $ Función de supervivencia (por ejemplo, sobrevivo a $ x $ edad) <br>\n",
    "* $ G_ {x} (t) = P (T (x) \\le t) = P (X - x \\le | X> x) = P (X \\le x + t | X> x) $ = Distribución función de la edad residual \n",
    "<br>\n",
    "\n",
    "* $ _h {q} _x = P (x <X \\le x + h | X> x) = \\frac {F (x + h) - F (x)} {1 - F (x)} $ = Temporal **probabilidad de muerte** para un individuo de edad $ x $. <br>En otras palabras, es la probabilidad de que una persona que ha excedido la edad $ x $ muera entre $ x $ y $ x + h $, por lo tanto, es una probabilidad de muerte condicionada por exceder una edad x. <br>\n",
    "<br>\n",
    "* $ _h {p} _x = 1- _h {q} _x = \\frac {1-F (x + h)} {1-F (x)} $ = Temporal **probabilidad de supervivencia** para un individuo de edad $ x $. Es la probabilidad de que un individuo que haya pasado la edad $ x $ exceda la edad $ x + h $. Obviamente, es la probabilidad del evento opuesto, es decir, uno menos la probabilidad de muerte."
   ]
  },
  {
   "cell_type": "markdown",
   "metadata": {},
   "source": [
    "## Tasa instantanea de fallecimiento"
   ]
  },
  {
   "cell_type": "markdown",
   "metadata": {},
   "source": [
    "Al definir **tasa de mortalidad instantánea** denotar como $ \\mu_ {x} $ o $\\mu (x) $ aludimos a la medida de la fuerza o la intensidad de la mortalidad a la edad $ x $, para las personas que han alcanzado ese años. <br>Ese es un límite, como se muestra: <br>\n",
    "$$\\mu (x) = \\lim _ {\\Delta {t \\to 0}} \\frac {\\Delta {_t} q_ {x}} {\\Delta {t}} $$ <br>\n",
    "\n",
    "En otras palabras, esa tasa recoge el valor límite de la probabilidad temporal de muerte fraccionada dentro del año. <br>"
   ]
  },
  {
   "cell_type": "markdown",
   "metadata": {},
   "source": [
    "$$\\Delta{_t}q_{x} = P(X \\le x + \\Delta{_t} | X > x) = \\frac{F(x+\\Delta{_t}) -F(x)}{1-F(x)}$$<br>\n",
    "Por lo tanto:"
   ]
  },
  {
   "cell_type": "markdown",
   "metadata": {},
   "source": [
    "$$\\frac{\\Delta{_t}q_{x}}{\\Delta{t}}= \\frac{1}{1-F(x)}\\times\\frac{F(x+\\Delta{t})-F(x)}{1-F(x)}$$<br>\n",
    "Tomando límites tenemos la siguiente igualdad donde $f$ es la función de densidad de $X$."
   ]
  },
  {
   "cell_type": "markdown",
   "metadata": {},
   "source": [
    "$$\\mu (x) =  \\frac{f(x)}{1-F(x)}$$"
   ]
  },
  {
   "cell_type": "markdown",
   "metadata": {},
   "source": [
    "## Tablas de vida"
   ]
  },
  {
   "cell_type": "markdown",
   "metadata": {},
   "source": [
    "*Las tablas de vida* recogen las funciones biometricas que describen la evoluciòn de una cohorte desde su *nacimiento* hasta su *extinciòn* (o muerte de todos sus miembros), y se utilizan en estadìstica actuarial para determinar las probabilidades de fallecimiento y cualquier otra magnitud necesaria. <br>La **cohorte** es una funciòn:\n",
    "### $$ l: [0, \\omega] \\to \\mathbb {R} $$"
   ]
  },
  {
   "cell_type": "markdown",
   "metadata": {},
   "source": [
    "<a id='dx'> </a>\n",
    "Sus valores están designados por $ l (x) $, donde $ l (0) $ es el tamaño inicial del grupo o cohorte y $ l (x) $ es el número de sobrevivientes de $ l (0) $ que alcanzar exactamente la edad $ x $. También tenemos que $ l (\\omega) = 0 $ y que $ l (x) = l (0) \\times S (x) $. Por conveniencia, usualmente se supone que $ l (0) $ es 100,000. <br>\n",
    "En las tablas de vida, también tenemos que $_{n}d_{x}$ representa el **número de muertes** entre las edades $ x $ y $x + n$:<br>\n",
    "De hecho, tenemos que: <br>\n",
    "### $$ _ {n} d_ {x} = l (x) - l (x + n) $$\n",
    "$ NOTA: $ <br>\n",
    "En las tablas de vida, $ l (x) $ es la función principal de la que derivan todos los demás."
   ]
  },
  {
   "cell_type": "markdown",
   "metadata": {},
   "source": [
    "En particular la Tabla de Mortalidad, considerada como la descripciòn del comportamiento de una Poblaciòn Hipotética, compuesta por elemntos de la misma edad, hasta la extinciòn total del grupo, es uno de los instrumentos de que el $Actuario$ hace uso para obtener valores de benficios futuros que estàn sujetos a la supervivencia o a la muerte de las personas.<br> \n",
    "Cabe decir que, el grado de confiabilidad de los càlculos obtenidos depnderà, entre otras cosas, de la veracidad con que l aTabla utilizada represente a la Poblaciòn Real, ya que al emplearse esta herramienta se està haciendo la suposiciòn de que la Poblaciòn Real tiene al mismo comportamiento que el de l Poblaciòn Hipotética contenida en la Tabla. En fin, hay que recordad que la construcciòn, a grandes rasgos, esté basada en un nùmero muy grande de hechos estadìsticos y, posteriormente, en la *graduaciòn* de tales obsevaciones. Sin embargo, este Notebook no tiene por objeto el explicar ni analizar los métodos que se usan para su construcciòn, desde la observaciòn de los hechos, una Tabla de Mortalidad. Nos enfocaremos mas bien en la familiarizaciòn en el manejo de los conceptos y la notaciòn que en ella se utilizan."
   ]
  },
  {
   "cell_type": "markdown",
   "metadata": {},
   "source": [
    "### Asì lucirìa dicha tabla"
   ]
  },
  {
   "cell_type": "markdown",
   "metadata": {},
   "source": [
    "| EDAD | NUMERO DE SOBREVIVIENTE EN CADA EDAD | NUMERO DE MUERTES EN CADA EDAD (CONS.) | PROB. DE MORIR ANTES DE CUMPLIR LA SIGUIENTE EDAD | PROB DE SOBREVIVIR A LA SIGUIENTE EDAD |\n",
    "|------|----------------------------------------|----------------------------------------|---------------------------------------------------|----------------------------------------|\n",
    "| $x$    | $l(x)$                                   |$d(x)$                                   | $q(x)$                                              | $p(x)$                                   |"
   ]
  },
  {
   "cell_type": "markdown",
   "metadata": {},
   "source": [
    "Yendo directamente al grano implementamos en Python una vista prelimiar de ella."
   ]
  },
  {
   "cell_type": "code",
   "execution_count": 5,
   "metadata": {},
   "outputs": [],
   "source": [
    "#First of all, we import basic libraries\n",
    "\n",
    "import pandas as pd\n",
    "import numpy as np\n",
    "import matplotlib.pyplot as plt\n",
    "import seaborn as sns\n",
    "import plotly.express as px\n",
    "import plotly.io as pio\n",
    "sns.set_style('darkgrid')"
   ]
  },
  {
   "cell_type": "code",
   "execution_count": 2,
   "metadata": {},
   "outputs": [
    {
     "data": {
      "text/html": [
       "<div>\n",
       "<style scoped>\n",
       "    .dataframe tbody tr th:only-of-type {\n",
       "        vertical-align: middle;\n",
       "    }\n",
       "\n",
       "    .dataframe tbody tr th {\n",
       "        vertical-align: top;\n",
       "    }\n",
       "\n",
       "    .dataframe thead th {\n",
       "        text-align: right;\n",
       "    }\n",
       "</style>\n",
       "<table border=\"1\" class=\"dataframe\">\n",
       "  <thead>\n",
       "    <tr style=\"text-align: right;\">\n",
       "      <th></th>\n",
       "      <th>age</th>\n",
       "      <th>Australia_Male</th>\n",
       "      <th>Austria_Male</th>\n",
       "      <th>Belgium_Male</th>\n",
       "      <th>Bulgaria_Male</th>\n",
       "      <th>Canada_Male</th>\n",
       "      <th>Czech Republic_Male</th>\n",
       "      <th>Denmark_Male</th>\n",
       "      <th>Estonia_Male</th>\n",
       "      <th>Finland_Male</th>\n",
       "      <th>...</th>\n",
       "      <th>Netherlands_Female</th>\n",
       "      <th>Poland_Female</th>\n",
       "      <th>Portugal_Female</th>\n",
       "      <th>Russia_Female</th>\n",
       "      <th>Slovakia_Female</th>\n",
       "      <th>Slovenia_Female</th>\n",
       "      <th>Spain_Female</th>\n",
       "      <th>Sweden_Female</th>\n",
       "      <th>United Kingdom_Female</th>\n",
       "      <th>United States_Female</th>\n",
       "    </tr>\n",
       "  </thead>\n",
       "  <tbody>\n",
       "    <tr>\n",
       "      <th>0</th>\n",
       "      <td>0</td>\n",
       "      <td>100000</td>\n",
       "      <td>100000</td>\n",
       "      <td>100000</td>\n",
       "      <td>100000</td>\n",
       "      <td>100000</td>\n",
       "      <td>100000</td>\n",
       "      <td>100000</td>\n",
       "      <td>100000</td>\n",
       "      <td>100000</td>\n",
       "      <td>...</td>\n",
       "      <td>100000</td>\n",
       "      <td>100000</td>\n",
       "      <td>100000</td>\n",
       "      <td>100000</td>\n",
       "      <td>100000</td>\n",
       "      <td>100000</td>\n",
       "      <td>100000</td>\n",
       "      <td>100000</td>\n",
       "      <td>100000</td>\n",
       "      <td>100000</td>\n",
       "    </tr>\n",
       "    <tr>\n",
       "      <th>1</th>\n",
       "      <td>1</td>\n",
       "      <td>99528</td>\n",
       "      <td>99600</td>\n",
       "      <td>99620</td>\n",
       "      <td>98938</td>\n",
       "      <td>99488</td>\n",
       "      <td>99698</td>\n",
       "      <td>99689</td>\n",
       "      <td>99582</td>\n",
       "      <td>99740</td>\n",
       "      <td>...</td>\n",
       "      <td>99649</td>\n",
       "      <td>99493</td>\n",
       "      <td>99693</td>\n",
       "      <td>99279</td>\n",
       "      <td>99526</td>\n",
       "      <td>99747</td>\n",
       "      <td>99713</td>\n",
       "      <td>99759</td>\n",
       "      <td>99583</td>\n",
       "      <td>99415</td>\n",
       "    </tr>\n",
       "    <tr>\n",
       "      <th>2</th>\n",
       "      <td>2</td>\n",
       "      <td>99495</td>\n",
       "      <td>99572</td>\n",
       "      <td>99570</td>\n",
       "      <td>98887</td>\n",
       "      <td>99453</td>\n",
       "      <td>99674</td>\n",
       "      <td>99663</td>\n",
       "      <td>99521</td>\n",
       "      <td>99723</td>\n",
       "      <td>...</td>\n",
       "      <td>99624</td>\n",
       "      <td>99461</td>\n",
       "      <td>99657</td>\n",
       "      <td>99205</td>\n",
       "      <td>99486</td>\n",
       "      <td>99727</td>\n",
       "      <td>99682</td>\n",
       "      <td>99735</td>\n",
       "      <td>99558</td>\n",
       "      <td>99376</td>\n",
       "    </tr>\n",
       "    <tr>\n",
       "      <th>3</th>\n",
       "      <td>3</td>\n",
       "      <td>99471</td>\n",
       "      <td>99545</td>\n",
       "      <td>99549</td>\n",
       "      <td>98854</td>\n",
       "      <td>99433</td>\n",
       "      <td>99646</td>\n",
       "      <td>99657</td>\n",
       "      <td>99521</td>\n",
       "      <td>99717</td>\n",
       "      <td>...</td>\n",
       "      <td>99609</td>\n",
       "      <td>99443</td>\n",
       "      <td>99639</td>\n",
       "      <td>99160</td>\n",
       "      <td>99444</td>\n",
       "      <td>99717</td>\n",
       "      <td>99669</td>\n",
       "      <td>99718</td>\n",
       "      <td>99538</td>\n",
       "      <td>99351</td>\n",
       "    </tr>\n",
       "    <tr>\n",
       "      <th>4</th>\n",
       "      <td>4</td>\n",
       "      <td>99458</td>\n",
       "      <td>99528</td>\n",
       "      <td>99528</td>\n",
       "      <td>98795</td>\n",
       "      <td>99421</td>\n",
       "      <td>99637</td>\n",
       "      <td>99654</td>\n",
       "      <td>99521</td>\n",
       "      <td>99707</td>\n",
       "      <td>...</td>\n",
       "      <td>99595</td>\n",
       "      <td>99424</td>\n",
       "      <td>99626</td>\n",
       "      <td>99130</td>\n",
       "      <td>99414</td>\n",
       "      <td>99706</td>\n",
       "      <td>99657</td>\n",
       "      <td>99700</td>\n",
       "      <td>99522</td>\n",
       "      <td>99332</td>\n",
       "    </tr>\n",
       "  </tbody>\n",
       "</table>\n",
       "<p>5 rows × 57 columns</p>\n",
       "</div>"
      ],
      "text/plain": [
       "   age  Australia_Male  Austria_Male  Belgium_Male  Bulgaria_Male  \\\n",
       "0    0          100000        100000        100000         100000   \n",
       "1    1           99528         99600         99620          98938   \n",
       "2    2           99495         99572         99570          98887   \n",
       "3    3           99471         99545         99549          98854   \n",
       "4    4           99458         99528         99528          98795   \n",
       "\n",
       "   Canada_Male  Czech Republic_Male  Denmark_Male  Estonia_Male  Finland_Male  \\\n",
       "0       100000               100000        100000        100000        100000   \n",
       "1        99488                99698         99689         99582         99740   \n",
       "2        99453                99674         99663         99521         99723   \n",
       "3        99433                99646         99657         99521         99717   \n",
       "4        99421                99637         99654         99521         99707   \n",
       "\n",
       "   ...  Netherlands_Female  Poland_Female  Portugal_Female  Russia_Female  \\\n",
       "0  ...              100000         100000           100000         100000   \n",
       "1  ...               99649          99493            99693          99279   \n",
       "2  ...               99624          99461            99657          99205   \n",
       "3  ...               99609          99443            99639          99160   \n",
       "4  ...               99595          99424            99626          99130   \n",
       "\n",
       "   Slovakia_Female  Slovenia_Female  Spain_Female  Sweden_Female  \\\n",
       "0           100000           100000        100000         100000   \n",
       "1            99526            99747         99713          99759   \n",
       "2            99486            99727         99682          99735   \n",
       "3            99444            99717         99669          99718   \n",
       "4            99414            99706         99657          99700   \n",
       "\n",
       "   United Kingdom_Female  United States_Female  \n",
       "0                 100000                100000  \n",
       "1                  99583                 99415  \n",
       "2                  99558                 99376  \n",
       "3                  99538                 99351  \n",
       "4                  99522                 99332  \n",
       "\n",
       "[5 rows x 57 columns]"
      ]
     },
     "execution_count": 2,
     "metadata": {},
     "output_type": "execute_result"
    }
   ],
   "source": [
    "file = r'C:\\Users\\Josè Valencia\\Desktop\\Actuarial\\lifeTable.csv'\n",
    "dataset = pd.read_csv(file) \n",
    "dataset.head() # Our dataset looks like this"
   ]
  },
  {
   "cell_type": "markdown",
   "metadata": {},
   "source": [
    "El conjunto de datos se descargó de **Kaggle**, contiene algunos países de los G20 y se divide en **Mujeres** y **Hombres**.<br> Como **Índice** se establece la edad desde el nacimiento hasta la edad de la muerte. Tenga en cuenta que las características *(columnas)* son países por género. <br> Esta base de datos también está presente en el repositorio de Github, pero para obtener más información sobre los datos, haga clic aquí: [lifeTables](https://www.kaggle.com/cthierfelder/life-table-g20)<br>\n",
    "Usamos el paquete **pyliferisk**:"
   ]
  },
  {
   "cell_type": "code",
   "execution_count": 3,
   "metadata": {},
   "outputs": [],
   "source": [
    "import pyliferisk as life\n",
    "import pyliferisk.mortalitytables as mort"
   ]
  },
  {
   "cell_type": "code",
   "execution_count": 4,
   "metadata": {},
   "outputs": [
    {
     "data": {
      "text/html": [
       "<div>\n",
       "<style scoped>\n",
       "    .dataframe tbody tr th:only-of-type {\n",
       "        vertical-align: middle;\n",
       "    }\n",
       "\n",
       "    .dataframe tbody tr th {\n",
       "        vertical-align: top;\n",
       "    }\n",
       "\n",
       "    .dataframe thead th {\n",
       "        text-align: right;\n",
       "    }\n",
       "</style>\n",
       "<table border=\"1\" class=\"dataframe\">\n",
       "  <thead>\n",
       "    <tr style=\"text-align: right;\">\n",
       "      <th></th>\n",
       "      <th>Hombres</th>\n",
       "      <th>Mujeres</th>\n",
       "      <th>dx MuertesM</th>\n",
       "      <th>dx MuertesF</th>\n",
       "      <th>qx Hombres</th>\n",
       "      <th>qy Mujeres</th>\n",
       "      <th>px Hombres</th>\n",
       "      <th>py Mujeres</th>\n",
       "    </tr>\n",
       "  </thead>\n",
       "  <tbody>\n",
       "    <tr>\n",
       "      <th>0</th>\n",
       "      <td>100000</td>\n",
       "      <td>100000</td>\n",
       "      <td>334.0</td>\n",
       "      <td>287.0</td>\n",
       "      <td>0.003340</td>\n",
       "      <td>0.002870</td>\n",
       "      <td>0.996660</td>\n",
       "      <td>0.997130</td>\n",
       "    </tr>\n",
       "    <tr>\n",
       "      <th>1</th>\n",
       "      <td>99666</td>\n",
       "      <td>99713</td>\n",
       "      <td>29.0</td>\n",
       "      <td>31.0</td>\n",
       "      <td>0.000291</td>\n",
       "      <td>0.000311</td>\n",
       "      <td>0.999709</td>\n",
       "      <td>0.999689</td>\n",
       "    </tr>\n",
       "    <tr>\n",
       "      <th>2</th>\n",
       "      <td>99637</td>\n",
       "      <td>99682</td>\n",
       "      <td>19.0</td>\n",
       "      <td>13.0</td>\n",
       "      <td>0.000191</td>\n",
       "      <td>0.000130</td>\n",
       "      <td>0.999809</td>\n",
       "      <td>0.999870</td>\n",
       "    </tr>\n",
       "    <tr>\n",
       "      <th>3</th>\n",
       "      <td>99618</td>\n",
       "      <td>99669</td>\n",
       "      <td>20.0</td>\n",
       "      <td>12.0</td>\n",
       "      <td>0.000201</td>\n",
       "      <td>0.000120</td>\n",
       "      <td>0.999799</td>\n",
       "      <td>0.999880</td>\n",
       "    </tr>\n",
       "    <tr>\n",
       "      <th>4</th>\n",
       "      <td>99598</td>\n",
       "      <td>99657</td>\n",
       "      <td>15.0</td>\n",
       "      <td>13.0</td>\n",
       "      <td>0.000151</td>\n",
       "      <td>0.000130</td>\n",
       "      <td>0.999849</td>\n",
       "      <td>0.999870</td>\n",
       "    </tr>\n",
       "    <tr>\n",
       "      <th>5</th>\n",
       "      <td>99583</td>\n",
       "      <td>99644</td>\n",
       "      <td>14.0</td>\n",
       "      <td>8.0</td>\n",
       "      <td>0.000141</td>\n",
       "      <td>0.000080</td>\n",
       "      <td>0.999859</td>\n",
       "      <td>0.999920</td>\n",
       "    </tr>\n",
       "    <tr>\n",
       "      <th>6</th>\n",
       "      <td>99569</td>\n",
       "      <td>99636</td>\n",
       "      <td>11.0</td>\n",
       "      <td>6.0</td>\n",
       "      <td>0.000110</td>\n",
       "      <td>0.000060</td>\n",
       "      <td>0.999890</td>\n",
       "      <td>0.999940</td>\n",
       "    </tr>\n",
       "  </tbody>\n",
       "</table>\n",
       "</div>"
      ],
      "text/plain": [
       "   Hombres  Mujeres   dx MuertesM  dx MuertesF  qx Hombres  qy Mujeres  \\\n",
       "0   100000    100000        334.0        287.0    0.003340    0.002870   \n",
       "1    99666     99713         29.0         31.0    0.000291    0.000311   \n",
       "2    99637     99682         19.0         13.0    0.000191    0.000130   \n",
       "3    99618     99669         20.0         12.0    0.000201    0.000120   \n",
       "4    99598     99657         15.0         13.0    0.000151    0.000130   \n",
       "5    99583     99644         14.0          8.0    0.000141    0.000080   \n",
       "6    99569     99636         11.0          6.0    0.000110    0.000060   \n",
       "\n",
       "   px Hombres  py Mujeres  \n",
       "0    0.996660    0.997130  \n",
       "1    0.999709    0.999689  \n",
       "2    0.999809    0.999870  \n",
       "3    0.999799    0.999880  \n",
       "4    0.999849    0.999870  \n",
       "5    0.999859    0.999920  \n",
       "6    0.999890    0.999940  "
      ]
     },
     "execution_count": 4,
     "metadata": {},
     "output_type": "execute_result"
    }
   ],
   "source": [
    "spainm = dataset.Spain_Male.to_list()           # list of Spanish Males\n",
    "mortal_males = life.MortalityTable(lx=spainm)   # Actuarial Table Males\n",
    "spainf = dataset.Spain_Female.to_list()         # list of Spanish Females\n",
    "mortal_females = life.MortalityTable(lx=spainf) # Actuarial Table Females\n",
    "qx_females = pd.to_numeric(mortal_females.dx[:-1])/pd.to_numeric(mortal_females.lx[:-1])\n",
    "mortal_tab = pd.DataFrame({'Hombres':mortal_males.lx[:-1], 'Mujeres ':mortal_females.lx[:-1], # Cohorts\n",
    "                          'dx MuertesM':mortal_males.dx[:-1], 'dx MuertesF':mortal_females.dx[:-1],  # Deaths within a year\n",
    "                          'qx Hombres': pd.to_numeric(mortal_males.qx)/1000,                  # Probability of deaths Males\n",
    "                          'qy Mujeres': qx_females,                                         # Probability of deaths Females\n",
    "                          'px Hombres': 1-(pd.to_numeric(mortal_males.qx)/1000),              # Probability of survival Males\n",
    "                          'py Mujeres':1-(qx_females)})                                     # Probability of survival Females\n",
    "mortal_tab.head(7) # How it looks like"
   ]
  },
  {
   "cell_type": "markdown",
   "metadata": {},
   "source": [
    "Podemos resumir dicha tabla como sigue:\n",
    "* $x =$ Nos representa cada una de las edades en la Tabla.\n",
    "* $l(x)=$ Nos representa el nùmero de personas que estàn con vida a la edad exacta $x-l$. $Nota:$ $l$ està por $living$ o sea vivientes.\n",
    "* $d_{x} = l(x)-l(x+1)=$ denota el nùmero de las personas que fallecen entre las edades $x$ y $x+1$. $Nota:$ $d$ està por death o sea, muertes.\n",
    "* $q_{x}$ es decir $q_{x}=\\frac{lx-lx+1}{lx} =$ nos representa la probabilidad de que una persona de edad $x$ no llegue con vida a la edad $x+1$.\n",
    "* $p_{x}=$ $\\frac{l_{x+1}}{lx}=$ representa la probabiliada de que una perosna de edad $x$ llegue con vida a la edad $x$.\n",
    "* Como consecuencia $q_{x}+p_{x}=1$"
   ]
  },
  {
   "cell_type": "markdown",
   "metadata": {},
   "source": [
    "**Aclaramos** el hecho de que en la Tabla està determinada una edad en la cual ya no haya personas vivas no implica que en la Poblaciòn Real no existan vidas con edades mayores a $\\omega$: pero para efectos teòricos es necesario considerar esta edad lìmite."
   ]
  },
  {
   "cell_type": "markdown",
   "metadata": {},
   "source": [
    "# España"
   ]
  },
  {
   "cell_type": "markdown",
   "metadata": {},
   "source": [
    "Siguiendo con el caso de España si graficamos los datos y la comparamos con otro paìs del Mediterràneo como Italia observamos:"
   ]
  },
  {
   "cell_type": "markdown",
   "metadata": {},
   "source": []
  },
  {
   "cell_type": "code",
   "execution_count": 9,
   "metadata": {},
   "outputs": [
    {
     "data": {
      "image/png": "[encoded data removed]",
      "text/plain": [
       "<Figure size 1080x360 with 2 Axes>"
      ]
     },
     "metadata": {},
     "output_type": "display_data"
    }
   ],
   "source": [
    "plt.rcParams['figure.figsize'] = [15, 5]\n",
    "p1 = plt.subplot(1,2,1)\n",
    "plt.title('Supervivencia Por Edad - España')\n",
    "plt.xlabel('Edad')\n",
    "plt.ylabel('Individuos (Cohorte)')\n",
    "plt.plot(dataset.index, dataset.Spain_Female, label = 'Mujeres')\n",
    "plt.plot(dataset.index, dataset.Spain_Male, label= 'Hombres')\n",
    "plt.legend(loc='best')\n",
    "p2 = plt.subplot(1,2,2)\n",
    "plt.title('Supervivencia Por Edad - Italia')\n",
    "plt.xlabel('Edad')\n",
    "plt.suptitle('Paises del Mediterràneo', fontweight='bold', fontsize=16)\n",
    "plt.plot(dataset.index, dataset.Italy_Female, label='Mujeres')\n",
    "plt.plot(dataset.index, dataset.Italy_Male, label='Hombres')\n",
    "plt.legend(loc='best')\n",
    "plt.show()"
   ]
  },
  {
   "cell_type": "markdown",
   "metadata": {},
   "source": [
    "Tomemos el caso de España. Al comienzo de $20^{th}$, la esperanza de vida en este país mediterráneo era en promedio de solo 34.76 años. <br> Para el cambio de siglo **la esperanza de vida al nacer aumentó** rápidamente y desde 1990,\n",
    "La esperanza de vida al nacer ha aumentado casi cuatro años, llegando a 80,9 en 2007. <br>\n",
    "**Para obtener información más detallada sobre las Comunidades Autónomas, consulte el enlace del INE**. [Aplaste aquí](https://www.ine.es/en/prensa/np584_en.pdf) <br>\n",
    "Aunque se ha verificado que en España la esperanza de vida aumentó a una de las tasas más altas del mundo, existe una brecha visible. <br>\n",
    "De hecho, por sexo, la diferencia en la incidencia de mortalidad se mantuvo. La esperanza de vida al nacer de las mujeres supera <br>la de los hombres en más de seis años. <br>\n",
    "Si lo comparamos con **Italia** otro país mediterráneo con tasas similares, la brecha de línea es más corta que la española. <br>\n",
    "Gráficamente, hay una distancia ligeramente más pronunciada entre la línea ocre y la azul en España que en la de Italia."
   ]
  },
  {
   "cell_type": "markdown",
   "metadata": {},
   "source": [
    "# Para ver en modo interactivo y mas detallado, clicar en los enlaces siguientes."
   ]
  },
  {
   "cell_type": "code",
   "execution_count": 24,
   "metadata": {},
   "outputs": [],
   "source": [
    "# Codigo\n",
    "#import plotly.graph_objects as go\n",
    "\n",
    "#pivotes = pd.pivot_table(dataset, values=['Spain_Male', 'Spain_Female'], index=dataset.index)\n",
    "#males = go.Scatter(x= pivotes.index, y=pivotes.Spain_Male, name= 'Males', mode='lines')\n",
    "#females = go.Scatter(x=pivotes.index, y=pivotes.Spain_Female, name='Females', mode='lines')\n",
    "\n",
    "#frames= [males, females]\n",
    "\n",
    "#figure = go.Figure(frames)\n",
    "#figure.update_layout(title_text='Survival Plot - Spain', xaxis_title= 'Age', yaxis_title='Individuals' )\n",
    "#pivita = pd.pivot_table(dataset, values=['Italy_Male', 'Italy_Female'], index=dataset.index)\n",
    "#malesita = go.Scatter(x= pivotes.index, y=pivita.Italy_Male, name= 'Males', mode='lines')\n",
    "#femalesita = go.Scatter(x=pivotes.index, y=pivita.Italy_Female, name='Females', mode='lines')\n",
    "\n",
    "#framesita= [malesita, femalesita]\n",
    "\n",
    "#figurita = go.Figure(framesita)\n",
    "#figurita.update_layout(title_text='Survival Plot - Italy', xaxis_title= 'Age', yaxis_title='Individuals' )\n",
    "\n",
    "#figure.show()"
   ]
  },
  {
   "cell_type": "markdown",
   "metadata": {},
   "source": [
    "\n",
    "**[España](https://joevalencia.github.io/Life-Actuarial-Stats/Spain.html)<br>\n",
    "[ITALIA](https://joevalencia.github.io/Life-Actuarial-Stats/Italy.html)<br>\n",
    "[MEDITERRANEO](https://joevalencia.github.io/Life-Actuarial-Stats/Mediterranea.html)**"
   ]
  },
  {
   "cell_type": "markdown",
   "metadata": {},
   "source": [
    "En otros términos, esta distancia más marcada significa que, en promedio, una pareja española tiene menos probabilidad de permanecer unida en comparación con una de Italia, si por permanecer unida entendemos que no muera al menos uno de ellos al cabo de $n$ años. <br> En estadística actuarial también se le llama **PROBABILIDAD DE DISOLUCIÓN**. <br>\n",
    "En otras palabras, en una *póliza de seguro conjunta*, la disolución se refiere a la muerte de la primera persona por la cual la pareja había estado pagando. <br>\n",
    "De hecho, **el seguro de vida conjunto** es una póliza de seguro que generalmente cubre a dos personas, pero solo paga una vez. <br>Típicamente, este pago será una suma global, que va al sobreviviente después de que la primera persona muere dentro del plazo de una póliza.<br> Cuando finaliza la política, no hay más cobertura de vida para el sobreviviente."
   ]
  },
  {
   "cell_type": "markdown",
   "metadata": {},
   "source": [
    "**Calculemos un ejemplo para ver como funciona**"
   ]
  },
  {
   "cell_type": "markdown",
   "metadata": {},
   "source": [
    "Antes que nada, tenemos que decir que en ciertos productos de seguros, como el seguro de vida para una familia, es necesario estudiar el comportamiento biométrico de grupos compuestos por varios individuos (también llamados cabezas) de diferentes edades. <br>\n",
    "En estos casos, tenemos que estudiar las probabilidades de *supervivencia* *conjunta* o muerte para todos o parte de los individuos en el grupo. <br>\n",
    "Dado que aceptamos la **hipótesis de independencia**, tendremos la probabilidad de supervivencia conjunta durante un año de tres cabezas de edades $y$, $x$ y $z$, que simbolizamos con $p_{xyz}$. <br>\n",
    "$$p_ {xyz} = p_{x} \\times p_ {y} \\times p_{z}$$"
   ]
  },
  {
   "cell_type": "markdown",
   "metadata": {},
   "source": [
    "**Recordemos que la disolución de un grupo ocurre cuando al menos fallece una persona del grupo.**"
   ]
  },
  {
   "cell_type": "markdown",
   "metadata": {},
   "source": [
    "La formula nos sugiere:<br>\n",
    "* **Probabilidad de disolucion:** $q_{xy}= q_{x} \\times p_{y} +q_{y} \\times p_{x}+ q_{x}\\times q_{y}= 1-p_{xy}$"
   ]
  },
  {
   "cell_type": "markdown",
   "metadata": {},
   "source": [
    "En python podemos usar la biblioteca [pyliferisk](https://github.com/franciscogarate/pyliferisk). **Pyliferisk** es una biblioteca de python para cálculos actuariales de vida, simple, potente y fácil de usar tanto como la contraparte de R: [lifecontingencies](https://cran.r-project.org/web/packages/lifecontingencies/lifecontingencies.pdf)."
   ]
  },
  {
   "cell_type": "code",
   "execution_count": 10,
   "metadata": {},
   "outputs": [],
   "source": [
    "import pyliferisk as life\n",
    "import pyliferisk.mortalitytables as mort"
   ]
  },
  {
   "cell_type": "markdown",
   "metadata": {},
   "source": [
    "$ NOTA $: pyliferisk multiplica automáticamente * 1000. Por lo tanto, dividimos por 1000 para obtener las probabilidades reales."
   ]
  },
  {
   "cell_type": "markdown",
   "metadata": {},
   "source": [
    "Debemos aplicar la fórmula de probabilidad de disolución. <br>\n",
    "En pyliferisk, digamos que queremos saber la probabilidad de disolución dentro de un año de una pareja de 60 años, por simplicidad. <br> **Aquí el código:**"
   ]
  },
  {
   "cell_type": "code",
   "execution_count": 11,
   "metadata": {},
   "outputs": [
    {
     "data": {
      "text/html": [
       "<div>\n",
       "<style scoped>\n",
       "    .dataframe tbody tr th:only-of-type {\n",
       "        vertical-align: middle;\n",
       "    }\n",
       "\n",
       "    .dataframe tbody tr th {\n",
       "        vertical-align: top;\n",
       "    }\n",
       "\n",
       "    .dataframe thead th {\n",
       "        text-align: right;\n",
       "    }\n",
       "</style>\n",
       "<table border=\"1\" class=\"dataframe\">\n",
       "  <thead>\n",
       "    <tr style=\"text-align: right;\">\n",
       "      <th></th>\n",
       "      <th>Hombres</th>\n",
       "      <th>Mujeres</th>\n",
       "      <th>dx MuertesM</th>\n",
       "      <th>dx MuertesF</th>\n",
       "      <th>qx Hombres</th>\n",
       "      <th>qy Mujeres</th>\n",
       "      <th>px Hombres</th>\n",
       "      <th>py Mujeres</th>\n",
       "    </tr>\n",
       "  </thead>\n",
       "  <tbody>\n",
       "    <tr>\n",
       "      <th>60</th>\n",
       "      <td>90277</td>\n",
       "      <td>95359</td>\n",
       "      <td>805.0</td>\n",
       "      <td>323.0</td>\n",
       "      <td>0.008917</td>\n",
       "      <td>0.003387</td>\n",
       "      <td>0.991083</td>\n",
       "      <td>0.996613</td>\n",
       "    </tr>\n",
       "  </tbody>\n",
       "</table>\n",
       "</div>"
      ],
      "text/plain": [
       "    Hombres  Mujeres   dx MuertesM  dx MuertesF  qx Hombres  qy Mujeres  \\\n",
       "60    90277     95359        805.0        323.0    0.008917    0.003387   \n",
       "\n",
       "    px Hombres  py Mujeres  \n",
       "60    0.991083    0.996613  "
      ]
     },
     "execution_count": 11,
     "metadata": {},
     "output_type": "execute_result"
    }
   ],
   "source": [
    "mortal_tab.iloc[60:61]"
   ]
  },
  {
   "cell_type": "code",
   "execution_count": 13,
   "metadata": {},
   "outputs": [
    {
     "data": {
      "text/plain": [
       "60    0.008917\n",
       "Name: qx Hombres, dtype: float64"
      ]
     },
     "execution_count": 13,
     "metadata": {},
     "output_type": "execute_result"
    }
   ],
   "source": [
    "tab = mortal_tab.iloc[60:61]\n",
    "tab['qx Hombres']"
   ]
  },
  {
   "cell_type": "code",
   "execution_count": 14,
   "metadata": {},
   "outputs": [
    {
     "name": "stdout",
     "output_type": "stream",
     "text": [
      "La probabilidad es: \n",
      " 60    0.012274\n",
      "dtype: float64\n"
     ]
    }
   ],
   "source": [
    "qxy = tab['qx Hombres']*tab['qy Mujeres']+tab['qx Hombres']*tab['py Mujeres']+tab['px Hombres']*tab['qy Mujeres']\n",
    "print('La probabilidad es: \\n', qxy)"
   ]
  },
  {
   "cell_type": "markdown",
   "metadata": {},
   "source": [
    "$Se Note:$ Esto también es como hacer $1-p_{xy}= 1-p_{x}\\times p_{y}.$<br>Por lo mismo:"
   ]
  },
  {
   "cell_type": "code",
   "execution_count": 15,
   "metadata": {},
   "outputs": [
    {
     "name": "stdout",
     "output_type": "stream",
     "text": [
      "La probabilidad es: \n",
      " 60    0.012274\n",
      "dtype: float64\n"
     ]
    }
   ],
   "source": [
    "qxy_bis = 1- tab['px Hombres']*tab['py Mujeres']\n",
    "print('La probabilidad es: \\n',qxy_bis)"
   ]
  },
  {
   "cell_type": "markdown",
   "metadata": {},
   "source": [
    "### Un ejemplo mas acerca de la comodidad de python..."
   ]
  },
  {
   "cell_type": "markdown",
   "metadata": {},
   "source": [
    "**Ejemplo. Cálculo del flujo de caja: anualidad - aumento geométrico inmediato** <br>\n",
    "Renta vitalicia inmediata que aumenta geométricamente para un hombre de 69 años."
   ]
  },
  {
   "cell_type": "code",
   "execution_count": 17,
   "metadata": {},
   "outputs": [
    {
     "name": "stdout",
     "output_type": "stream",
     "text": [
      "Premium : 125830.73\n"
     ]
    }
   ],
   "source": [
    "\n",
    "age = 69\n",
    "initial_payment = 10000\n",
    "incr = 0.03 # increment\n",
    "i = 0.05    # interest rate\n",
    "\n",
    "discount_factor = []\n",
    "for y in range (0 , mortal_males.w - age ):\n",
    "    discount_factor.append (1 / (1 + i) ** (y + 1) )\n",
    "\n",
    "payments = [initial_payment]\n",
    "for x in range (0 , mortal_males.w - age -1):\n",
    "    payments.append( payments [x] * (1 + incr ) * (1 - mortal_males.qx[age+x] /1000) )\n",
    "\n",
    "print('Premium :', np.dot(payments, discount_factor).round(2))"
   ]
  },
  {
   "cell_type": "markdown",
   "metadata": {},
   "source": [
    "### Esperanza de vida"
   ]
  },
  {
   "cell_type": "markdown",
   "metadata": {},
   "source": [
    "Cuando una persona decide contratar un seguro de vida, uno de los factores más relevantes para determinar la **prima** de la póliza es la edad actual del asegurado. Las características de la vida futura del asegurado (esperanza, variación, mediana de vida residual) proporcionarán información muy importante a este respecto. Recordamos que la función de distribución de la vida residual $G (x)$ está relacionada con la de la edad de la muerte de la siguiente manera:"
   ]
  },
  {
   "cell_type": "markdown",
   "metadata": {},
   "source": [
    "#### $$G_{x}(t) = P[T(x) \\le t] = \\frac{F(x+t)-F(x)}{1-F(x)}$$\n",
    "[Notacion](#bi)"
   ]
  },
  {
   "cell_type": "markdown",
   "metadata": {},
   "source": [
    "## Resumiendo\n",
    "Las estadísticas actuariales de vida, como una rama de la ciencia actuarial, son cada vez más un campo en el que depender ya que la expectativa de vida y otras implicaciones de seguro están relacionadas con ella. <br>\n",
    "Es màs, debemos recordar que los países desarrollados se enfrentan a envejecimiento y brechas negativas en la tasa de natalidad. <br>\n",
    "Por otro lado, una externalidad positiva que las investigaciones recientes han hecho está relacionada con la escolarización. <br>De hecho, a medida que la esperanza de vida continúa aumentando a nivel mundial, se muestra como esta también está relacionada con niveles más altos de escolaridad. Casper Worm Hansen ha escrito un [Paper](https://www.sdu.dk/-/media/files/om_sdu/institutter/ivoe/disc_papers/disc_2012/dpbe6_2012.pdf) en cuanto aquello. <br>\n",
    "**Cerremos con un gráfico interactivo al respecto.** <br>**[Cuadro de escolarización](https://joevalencia.github.io/Life-Actuarial-Stats/Schooling.html)** demuestra cómo la esperanza de vida ha estado creciendo desde el comienzo de $ 21 ^ {th} $. Entonces, **Recomiendo mirarlo**.  <br> Esta trama solo tiene como objetivo recordarnos cuánto podrían confiar los analistas de datos en software técnico para aclarar conceptos."
   ]
  },
  {
   "attachments": {
    "school.jpg": {
     "image/jpeg": "[encoded data removed]"
    }
   },
   "cell_type": "markdown",
   "metadata": {},
   "source": [
    "![school.jpg](attachment:school.jpg)"
   ]
  },
  {
   "cell_type": "markdown",
   "metadata": {},
   "source": [
    "# [Schooling chart](https://joevalencia.github.io/Life-Actuarial-Stats/Schooling.html)"
   ]
  },
  {
   "cell_type": "markdown",
   "metadata": {},
   "source": [
    "En primer lugar, dado que no es posible mostrar gráficos interactivos en README o Jupiter Notebook en Github, **invito calurosamente** a cliclar el enlace arriba para verlo en modo interactivo. <br>A pesar de este pequeño problema, no es un obstáculo y la visualización ya que es posible una excelente representaciòn con **Plotly**. <br>\n",
    "Plotly es una poderosa biblioteca interactiva para Python. Es bastante útil ya que podemos deslizarnos en el gráfico para mirar hasta el más mínimo detalle. <br> De hecho, le aconsejo al lector que deslice el dedo hacia arriba y hacia abajo para ver la edad y el número de personas de manera interactiva. <br> El primer gráfico es un **Gráfico de supervivencia**, generalmente se representa como un gráfico de líneas. En el eje y tenemos la cohorte que comienza en 100,000 como se dijo antes. <br> En este gráfico, como de costumbre, se ilustra en el eje $x$ la edad de un grupo de individuos y claramente comienza en 0 llegando al límite edad (nuestro $ \\omega $)."
   ]
  },
  {
   "cell_type": "markdown",
   "metadata": {},
   "source": [
    "Verán que los puntos rojos representan a las economías desarrolladas y las azules como en desarrollo. <br> El tamaño de las bolas o puntos depende del porcentaje de gasto a lo largo de los años. <br> A medida que pasa el tiempo, aumenta el índice de escolaridad y aumenta la esperanza de vida. ."
   ]
  },
  {
   "cell_type": "markdown",
   "metadata": {},
   "source": [
    "**El último dataset [conjunto de datos](https://www.kaggle.com/kumarajarshi/life-expectancy-who) también fue tomado de kaggle.** <br>\n",
    "##### Reconocimiento: Los datos se obtuvieron del sitio web de la OMS y las Naciones Unidas con la ayuda de Deeksha Russell y Duan Wang."
   ]
  },
  {
   "cell_type": "markdown",
   "metadata": {},
   "source": [
    "#### Aquì en codigo para el grafico interactivo"
   ]
  },
  {
   "cell_type": "code",
   "execution_count": 18,
   "metadata": {},
   "outputs": [
    {
     "data": {
      "text/html": [
       "<div>\n",
       "<style scoped>\n",
       "    .dataframe tbody tr th:only-of-type {\n",
       "        vertical-align: middle;\n",
       "    }\n",
       "\n",
       "    .dataframe tbody tr th {\n",
       "        vertical-align: top;\n",
       "    }\n",
       "\n",
       "    .dataframe thead th {\n",
       "        text-align: right;\n",
       "    }\n",
       "</style>\n",
       "<table border=\"1\" class=\"dataframe\">\n",
       "  <thead>\n",
       "    <tr style=\"text-align: right;\">\n",
       "      <th></th>\n",
       "      <th>Country</th>\n",
       "      <th>Year</th>\n",
       "      <th>Status</th>\n",
       "      <th>Life expectancy</th>\n",
       "      <th>Adult Mortality</th>\n",
       "      <th>infant deaths</th>\n",
       "      <th>Alcohol</th>\n",
       "      <th>percentage expenditure</th>\n",
       "      <th>Hepatitis B</th>\n",
       "      <th>Measles</th>\n",
       "      <th>...</th>\n",
       "      <th>Polio</th>\n",
       "      <th>Total expenditure</th>\n",
       "      <th>Diphtheria</th>\n",
       "      <th>HIV/AIDS</th>\n",
       "      <th>GDP</th>\n",
       "      <th>Population</th>\n",
       "      <th>thinness  1-19 years</th>\n",
       "      <th>thinness 5-9 years</th>\n",
       "      <th>Income composition of resources</th>\n",
       "      <th>Schooling</th>\n",
       "    </tr>\n",
       "  </thead>\n",
       "  <tbody>\n",
       "    <tr>\n",
       "      <th>0</th>\n",
       "      <td>Afghanistan</td>\n",
       "      <td>2015</td>\n",
       "      <td>Developing</td>\n",
       "      <td>65.0</td>\n",
       "      <td>263.0</td>\n",
       "      <td>62</td>\n",
       "      <td>0.01</td>\n",
       "      <td>71.279624</td>\n",
       "      <td>65.0</td>\n",
       "      <td>1154</td>\n",
       "      <td>...</td>\n",
       "      <td>6.0</td>\n",
       "      <td>8.16</td>\n",
       "      <td>65.0</td>\n",
       "      <td>0.1</td>\n",
       "      <td>584.259210</td>\n",
       "      <td>33736494.0</td>\n",
       "      <td>17.2</td>\n",
       "      <td>17.3</td>\n",
       "      <td>0.479</td>\n",
       "      <td>10.1</td>\n",
       "    </tr>\n",
       "    <tr>\n",
       "      <th>1</th>\n",
       "      <td>Afghanistan</td>\n",
       "      <td>2014</td>\n",
       "      <td>Developing</td>\n",
       "      <td>59.9</td>\n",
       "      <td>271.0</td>\n",
       "      <td>64</td>\n",
       "      <td>0.01</td>\n",
       "      <td>73.523582</td>\n",
       "      <td>62.0</td>\n",
       "      <td>492</td>\n",
       "      <td>...</td>\n",
       "      <td>58.0</td>\n",
       "      <td>8.18</td>\n",
       "      <td>62.0</td>\n",
       "      <td>0.1</td>\n",
       "      <td>612.696514</td>\n",
       "      <td>327582.0</td>\n",
       "      <td>17.5</td>\n",
       "      <td>17.5</td>\n",
       "      <td>0.476</td>\n",
       "      <td>10.0</td>\n",
       "    </tr>\n",
       "    <tr>\n",
       "      <th>2</th>\n",
       "      <td>Afghanistan</td>\n",
       "      <td>2013</td>\n",
       "      <td>Developing</td>\n",
       "      <td>59.9</td>\n",
       "      <td>268.0</td>\n",
       "      <td>66</td>\n",
       "      <td>0.01</td>\n",
       "      <td>73.219243</td>\n",
       "      <td>64.0</td>\n",
       "      <td>430</td>\n",
       "      <td>...</td>\n",
       "      <td>62.0</td>\n",
       "      <td>8.13</td>\n",
       "      <td>64.0</td>\n",
       "      <td>0.1</td>\n",
       "      <td>631.744976</td>\n",
       "      <td>31731688.0</td>\n",
       "      <td>17.7</td>\n",
       "      <td>17.7</td>\n",
       "      <td>0.470</td>\n",
       "      <td>9.9</td>\n",
       "    </tr>\n",
       "    <tr>\n",
       "      <th>3</th>\n",
       "      <td>Afghanistan</td>\n",
       "      <td>2012</td>\n",
       "      <td>Developing</td>\n",
       "      <td>59.5</td>\n",
       "      <td>272.0</td>\n",
       "      <td>69</td>\n",
       "      <td>0.01</td>\n",
       "      <td>78.184215</td>\n",
       "      <td>67.0</td>\n",
       "      <td>2787</td>\n",
       "      <td>...</td>\n",
       "      <td>67.0</td>\n",
       "      <td>8.52</td>\n",
       "      <td>67.0</td>\n",
       "      <td>0.1</td>\n",
       "      <td>669.959000</td>\n",
       "      <td>3696958.0</td>\n",
       "      <td>17.9</td>\n",
       "      <td>18.0</td>\n",
       "      <td>0.463</td>\n",
       "      <td>9.8</td>\n",
       "    </tr>\n",
       "    <tr>\n",
       "      <th>4</th>\n",
       "      <td>Afghanistan</td>\n",
       "      <td>2011</td>\n",
       "      <td>Developing</td>\n",
       "      <td>59.2</td>\n",
       "      <td>275.0</td>\n",
       "      <td>71</td>\n",
       "      <td>0.01</td>\n",
       "      <td>7.097109</td>\n",
       "      <td>68.0</td>\n",
       "      <td>3013</td>\n",
       "      <td>...</td>\n",
       "      <td>68.0</td>\n",
       "      <td>7.87</td>\n",
       "      <td>68.0</td>\n",
       "      <td>0.1</td>\n",
       "      <td>63.537231</td>\n",
       "      <td>2978599.0</td>\n",
       "      <td>18.2</td>\n",
       "      <td>18.2</td>\n",
       "      <td>0.454</td>\n",
       "      <td>9.5</td>\n",
       "    </tr>\n",
       "  </tbody>\n",
       "</table>\n",
       "<p>5 rows × 22 columns</p>\n",
       "</div>"
      ],
      "text/plain": [
       "       Country  Year      Status  Life expectancy   Adult Mortality  \\\n",
       "0  Afghanistan  2015  Developing              65.0            263.0   \n",
       "1  Afghanistan  2014  Developing              59.9            271.0   \n",
       "2  Afghanistan  2013  Developing              59.9            268.0   \n",
       "3  Afghanistan  2012  Developing              59.5            272.0   \n",
       "4  Afghanistan  2011  Developing              59.2            275.0   \n",
       "\n",
       "   infant deaths  Alcohol  percentage expenditure  Hepatitis B  Measles   ...  \\\n",
       "0             62     0.01               71.279624         65.0      1154  ...   \n",
       "1             64     0.01               73.523582         62.0       492  ...   \n",
       "2             66     0.01               73.219243         64.0       430  ...   \n",
       "3             69     0.01               78.184215         67.0      2787  ...   \n",
       "4             71     0.01                7.097109         68.0      3013  ...   \n",
       "\n",
       "   Polio  Total expenditure  Diphtheria    HIV/AIDS         GDP  Population  \\\n",
       "0    6.0               8.16         65.0        0.1  584.259210  33736494.0   \n",
       "1   58.0               8.18         62.0        0.1  612.696514    327582.0   \n",
       "2   62.0               8.13         64.0        0.1  631.744976  31731688.0   \n",
       "3   67.0               8.52         67.0        0.1  669.959000   3696958.0   \n",
       "4   68.0               7.87         68.0        0.1   63.537231   2978599.0   \n",
       "\n",
       "    thinness  1-19 years   thinness 5-9 years  \\\n",
       "0                   17.2                 17.3   \n",
       "1                   17.5                 17.5   \n",
       "2                   17.7                 17.7   \n",
       "3                   17.9                 18.0   \n",
       "4                   18.2                 18.2   \n",
       "\n",
       "   Income composition of resources  Schooling  \n",
       "0                            0.479       10.1  \n",
       "1                            0.476       10.0  \n",
       "2                            0.470        9.9  \n",
       "3                            0.463        9.8  \n",
       "4                            0.454        9.5  \n",
       "\n",
       "[5 rows x 22 columns]"
      ]
     },
     "execution_count": 18,
     "metadata": {},
     "output_type": "execute_result"
    }
   ],
   "source": [
    "archivo = r'C:\\Users\\Josè Valencia\\Desktop\\Actuarial\\lifedata.csv'\n",
    "lifedata = pd.read_csv(archivo)\n",
    "lifedata.head()"
   ]
  },
  {
   "cell_type": "code",
   "execution_count": 19,
   "metadata": {},
   "outputs": [
    {
     "name": "stdout",
     "output_type": "stream",
     "text": [
      "<class 'pandas.core.frame.DataFrame'>\n",
      "RangeIndex: 2938 entries, 0 to 2937\n",
      "Data columns (total 22 columns):\n",
      "Country                            2938 non-null object\n",
      "Year                               2938 non-null int64\n",
      "Status                             2938 non-null object\n",
      "Life expectancy                    2928 non-null float64\n",
      "Adult Mortality                    2928 non-null float64\n",
      "infant deaths                      2938 non-null int64\n",
      "Alcohol                            2744 non-null float64\n",
      "percentage expenditure             2938 non-null float64\n",
      "Hepatitis B                        2385 non-null float64\n",
      "Measles                            2938 non-null int64\n",
      " BMI                               2904 non-null float64\n",
      "under-five deaths                  2938 non-null int64\n",
      "Polio                              2919 non-null float64\n",
      "Total expenditure                  2712 non-null float64\n",
      "Diphtheria                         2919 non-null float64\n",
      " HIV/AIDS                          2938 non-null float64\n",
      "GDP                                2490 non-null float64\n",
      "Population                         2286 non-null float64\n",
      " thinness  1-19 years              2904 non-null float64\n",
      " thinness 5-9 years                2904 non-null float64\n",
      "Income composition of resources    2771 non-null float64\n",
      "Schooling                          2775 non-null float64\n",
      "dtypes: float64(16), int64(4), object(2)\n",
      "memory usage: 505.1+ KB\n"
     ]
    }
   ],
   "source": [
    "lifedata.info()"
   ]
  },
  {
   "cell_type": "code",
   "execution_count": null,
   "metadata": {},
   "outputs": [],
   "source": [
    "lifeworld = lifedata.sort_values('Year', axis=0, ascending=True) # Ordenamos los datos segun el tiempo"
   ]
  },
  {
   "cell_type": "code",
   "execution_count": null,
   "metadata": {},
   "outputs": [],
   "source": [
    "d = px.scatter(data_frame=lifeworld, y='Life expectancy ', x='Schooling', animation_frame='Year', \n",
    "               log_x=True, color ='Status', size='percentage expenditure', range_y=[40,100],\n",
    "               range_x=[4,23], hover_name='Country', animation_group='Country', size_max=55)\n",
    "d.update_layout(title='The effects of Life Expectancy on Schooling', transition = {'duration': 400})\n",
    "d.show()"
   ]
  },
  {
   "cell_type": "markdown",
   "metadata": {},
   "source": [
    "## Referencias "
   ]
  },
  {
   "cell_type": "markdown",
   "metadata": {},
   "source": [
    "1. **Estadística actuarial vida** M. Ayuso, H. Corrales, M. Guillén, A.M. Pérez-Marín, J. L. Rojo\n",
    "2. **Elementos de calculo acuarial** M.A. Parras, J.A. Sanchez Chibràs."
   ]
  },
  {
   "cell_type": "code",
   "execution_count": null,
   "metadata": {},
   "outputs": [],
   "source": []
  }
 ],
 "metadata": {
  "kernelspec": {
   "display_name": "Python 3",
   "language": "python",
   "name": "python3"
  },
  "language_info": {
   "codemirror_mode": {
    "name": "ipython",
    "version": 3
   },
   "file_extension": ".py",
   "mimetype": "text/x-python",
   "name": "python",
   "nbconvert_exporter": "python",
   "pygments_lexer": "ipython3",
   "version": "3.8.1"
  }
 },
 "nbformat": 4,
 "nbformat_minor": 2
}
